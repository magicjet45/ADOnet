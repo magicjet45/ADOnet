{
  "nbformat": 4,
  "nbformat_minor": 0,
  "metadata": {
    "colab": {
      "provenance": [],
      "gpuType": "T4"
    },
    "kernelspec": {
      "name": "python3",
      "display_name": "Python 3"
    },
    "language_info": {
      "name": "python"
    },
    "accelerator": "GPU"
  },
  "cells": [
    {
      "cell_type": "code",
      "execution_count": 9,
      "metadata": {
        "colab": {
          "base_uri": "https://localhost:8080/",
          "height": 1000
        },
        "id": "bBCw92xxe2op",
        "outputId": "43159314-6ffc-4649-ef78-f1e5d8d4127b"
      },
      "outputs": [
        {
          "output_type": "stream",
          "name": "stderr",
          "text": [
            "Epochs:   3%|▎         | 3/100 [00:00<00:09, 10.51it/s]"
          ]
        },
        {
          "output_type": "stream",
          "name": "stdout",
          "text": [
            "Epoch 01/100  Train Loss: 5.5127, Acc: 1.5000%  \n",
            "Epoch 02/100  Train Loss: 5.4652, Acc: 3.3000%  \n",
            "Epoch 03/100  Train Loss: 5.4169, Acc: 3.9000%  \n"
          ]
        },
        {
          "output_type": "stream",
          "name": "stderr",
          "text": [
            "\rEpochs:   5%|▌         | 5/100 [00:00<00:08, 10.71it/s]"
          ]
        },
        {
          "output_type": "stream",
          "name": "stdout",
          "text": [
            "Epoch 04/100  Train Loss: 5.3645, Acc: 4.0000%  \n",
            "Epoch 05/100  Train Loss: 5.3063, Acc: 3.9000%  \n",
            "Epoch 06/100  Train Loss: 5.2398, Acc: 3.8000%  \n"
          ]
        },
        {
          "output_type": "stream",
          "name": "stderr",
          "text": [
            "Epochs:   9%|▉         | 9/100 [00:00<00:08, 10.46it/s]"
          ]
        },
        {
          "output_type": "stream",
          "name": "stdout",
          "text": [
            "Epoch 07/100  Train Loss: 5.1667, Acc: 4.6000%  \n",
            "Epoch 08/100  Train Loss: 5.0859, Acc: 4.8000%  \n",
            "Epoch 09/100  Train Loss: 4.9992, Acc: 6.5000%  \n"
          ]
        },
        {
          "output_type": "stream",
          "name": "stderr",
          "text": [
            "\rEpochs:  11%|█         | 11/100 [00:01<00:08, 10.60it/s]"
          ]
        },
        {
          "output_type": "stream",
          "name": "stdout",
          "text": [
            "Epoch 10/100  Train Loss: 4.9057, Acc: 8.0000%  \n",
            "Epoch 11/100  Train Loss: 4.8050, Acc: 10.5000%  \n",
            "Epoch 12/100  Train Loss: 4.7006, Acc: 14.6000%  \n"
          ]
        },
        {
          "output_type": "stream",
          "name": "stderr",
          "text": [
            "Epochs:  15%|█▌        | 15/100 [00:01<00:07, 10.78it/s]"
          ]
        },
        {
          "output_type": "stream",
          "name": "stdout",
          "text": [
            "Epoch 13/100  Train Loss: 4.5857, Acc: 18.7000%  \n",
            "Epoch 14/100  Train Loss: 4.4684, Acc: 22.3000%  \n",
            "Epoch 15/100  Train Loss: 4.3421, Acc: 29.1000%  \n"
          ]
        },
        {
          "output_type": "stream",
          "name": "stderr",
          "text": [
            "\rEpochs:  17%|█▋        | 17/100 [00:01<00:07, 11.17it/s]"
          ]
        },
        {
          "output_type": "stream",
          "name": "stdout",
          "text": [
            "Epoch 16/100  Train Loss: 4.2112, Acc: 36.3000%  \n",
            "Epoch 17/100  Train Loss: 4.0746, Acc: 40.0000%  \n",
            "Epoch 18/100  Train Loss: 3.9294, Acc: 45.3000%  \n"
          ]
        },
        {
          "output_type": "stream",
          "name": "stderr",
          "text": [
            "Epochs:  21%|██        | 21/100 [00:01<00:06, 11.72it/s]"
          ]
        },
        {
          "output_type": "stream",
          "name": "stdout",
          "text": [
            "Epoch 19/100  Train Loss: 3.7825, Acc: 50.0000%  \n",
            "Epoch 20/100  Train Loss: 3.6301, Acc: 54.6000%  \n",
            "Epoch 21/100  Train Loss: 3.4724, Acc: 58.8000%  \n"
          ]
        },
        {
          "output_type": "stream",
          "name": "stderr",
          "text": [
            "\rEpochs:  23%|██▎       | 23/100 [00:02<00:06, 11.84it/s]"
          ]
        },
        {
          "output_type": "stream",
          "name": "stdout",
          "text": [
            "Epoch 22/100  Train Loss: 3.3141, Acc: 62.5000%  \n",
            "Epoch 23/100  Train Loss: 3.1559, Acc: 65.6000%  \n",
            "Epoch 24/100  Train Loss: 2.9940, Acc: 69.8000%  \n"
          ]
        },
        {
          "output_type": "stream",
          "name": "stderr",
          "text": [
            "Epochs:  27%|██▋       | 27/100 [00:02<00:06, 11.99it/s]"
          ]
        },
        {
          "output_type": "stream",
          "name": "stdout",
          "text": [
            "Epoch 25/100  Train Loss: 2.8348, Acc: 73.2000%  \n",
            "Epoch 26/100  Train Loss: 2.6809, Acc: 76.0000%  \n",
            "Epoch 27/100  Train Loss: 2.5275, Acc: 79.8000%  \n"
          ]
        },
        {
          "output_type": "stream",
          "name": "stderr",
          "text": [
            "\rEpochs:  29%|██▉       | 29/100 [00:02<00:05, 12.02it/s]"
          ]
        },
        {
          "output_type": "stream",
          "name": "stdout",
          "text": [
            "Epoch 28/100  Train Loss: 2.3776, Acc: 82.4000%  \n",
            "Epoch 29/100  Train Loss: 2.2358, Acc: 84.2000%  \n",
            "Epoch 30/100  Train Loss: 2.0986, Acc: 85.6000%  \n"
          ]
        },
        {
          "output_type": "stream",
          "name": "stderr",
          "text": [
            "Epochs:  33%|███▎      | 33/100 [00:02<00:05, 12.07it/s]"
          ]
        },
        {
          "output_type": "stream",
          "name": "stdout",
          "text": [
            "Epoch 31/100  Train Loss: 1.9673, Acc: 87.3000%  \n",
            "Epoch 32/100  Train Loss: 1.8454, Acc: 88.5000%  \n",
            "Epoch 33/100  Train Loss: 1.7269, Acc: 89.0000%  \n"
          ]
        },
        {
          "output_type": "stream",
          "name": "stderr",
          "text": [
            "\rEpochs:  35%|███▌      | 35/100 [00:03<00:05, 12.01it/s]"
          ]
        },
        {
          "output_type": "stream",
          "name": "stdout",
          "text": [
            "Epoch 34/100  Train Loss: 1.6188, Acc: 90.1000%  \n",
            "Epoch 35/100  Train Loss: 1.5138, Acc: 90.7000%  \n",
            "Epoch 36/100  Train Loss: 1.4176, Acc: 91.8000%  \n"
          ]
        },
        {
          "output_type": "stream",
          "name": "stderr",
          "text": [
            "Epochs:  39%|███▉      | 39/100 [00:03<00:05, 12.03it/s]"
          ]
        },
        {
          "output_type": "stream",
          "name": "stdout",
          "text": [
            "Epoch 37/100  Train Loss: 1.3300, Acc: 92.4000%  \n",
            "Epoch 38/100  Train Loss: 1.2450, Acc: 92.9000%  \n",
            "Epoch 39/100  Train Loss: 1.1678, Acc: 93.8000%  \n"
          ]
        },
        {
          "output_type": "stream",
          "name": "stderr",
          "text": [
            "\rEpochs:  41%|████      | 41/100 [00:03<00:04, 12.06it/s]"
          ]
        },
        {
          "output_type": "stream",
          "name": "stdout",
          "text": [
            "Epoch 40/100  Train Loss: 1.0976, Acc: 94.6000%  \n",
            "Epoch 41/100  Train Loss: 1.0304, Acc: 94.9000%  \n",
            "Epoch 42/100  Train Loss: 0.9679, Acc: 95.4000%  \n"
          ]
        },
        {
          "output_type": "stream",
          "name": "stderr",
          "text": [
            "Epochs:  45%|████▌     | 45/100 [00:03<00:04, 12.14it/s]"
          ]
        },
        {
          "output_type": "stream",
          "name": "stdout",
          "text": [
            "Epoch 43/100  Train Loss: 0.9098, Acc: 96.1000%  \n",
            "Epoch 44/100  Train Loss: 0.8560, Acc: 96.8000%  \n",
            "Epoch 45/100  Train Loss: 0.8061, Acc: 97.2000%  \n"
          ]
        },
        {
          "output_type": "stream",
          "name": "stderr",
          "text": [
            "\rEpochs:  47%|████▋     | 47/100 [00:04<00:04, 12.13it/s]"
          ]
        },
        {
          "output_type": "stream",
          "name": "stdout",
          "text": [
            "Epoch 46/100  Train Loss: 0.7595, Acc: 97.5000%  \n",
            "Epoch 47/100  Train Loss: 0.7179, Acc: 97.6000%  \n",
            "Epoch 48/100  Train Loss: 0.6779, Acc: 97.8000%  \n"
          ]
        },
        {
          "output_type": "stream",
          "name": "stderr",
          "text": [
            "Epochs:  51%|█████     | 51/100 [00:04<00:04, 12.11it/s]"
          ]
        },
        {
          "output_type": "stream",
          "name": "stdout",
          "text": [
            "Epoch 49/100  Train Loss: 0.6391, Acc: 98.1000%  \n",
            "Epoch 50/100  Train Loss: 0.6048, Acc: 98.3000%  \n",
            "Epoch 51/100  Train Loss: 0.5737, Acc: 98.3000%  \n"
          ]
        },
        {
          "output_type": "stream",
          "name": "stderr",
          "text": [
            "\rEpochs:  53%|█████▎    | 53/100 [00:04<00:03, 12.11it/s]"
          ]
        },
        {
          "output_type": "stream",
          "name": "stdout",
          "text": [
            "Epoch 52/100  Train Loss: 0.5420, Acc: 98.3000%  \n",
            "Epoch 53/100  Train Loss: 0.5157, Acc: 98.4000%  \n",
            "Epoch 54/100  Train Loss: 0.4888, Acc: 98.8000%  \n"
          ]
        },
        {
          "output_type": "stream",
          "name": "stderr",
          "text": [
            "Epochs:  57%|█████▋    | 57/100 [00:04<00:03, 12.18it/s]"
          ]
        },
        {
          "output_type": "stream",
          "name": "stdout",
          "text": [
            "Epoch 55/100  Train Loss: 0.4641, Acc: 98.9000%  \n",
            "Epoch 56/100  Train Loss: 0.4417, Acc: 98.9000%  \n",
            "Epoch 57/100  Train Loss: 0.4193, Acc: 98.8000%  \n"
          ]
        },
        {
          "output_type": "stream",
          "name": "stderr",
          "text": [
            "\rEpochs:  59%|█████▉    | 59/100 [00:05<00:03, 12.13it/s]"
          ]
        },
        {
          "output_type": "stream",
          "name": "stdout",
          "text": [
            "Epoch 58/100  Train Loss: 0.3998, Acc: 99.0000%  \n",
            "Epoch 59/100  Train Loss: 0.3804, Acc: 99.1000%  \n",
            "Epoch 60/100  Train Loss: 0.3626, Acc: 99.3000%  \n"
          ]
        },
        {
          "output_type": "stream",
          "name": "stderr",
          "text": [
            "Epochs:  63%|██████▎   | 63/100 [00:05<00:03, 12.05it/s]"
          ]
        },
        {
          "output_type": "stream",
          "name": "stdout",
          "text": [
            "Epoch 61/100  Train Loss: 0.3458, Acc: 99.4000%  \n",
            "Epoch 62/100  Train Loss: 0.3306, Acc: 99.7000%  \n",
            "Epoch 63/100  Train Loss: 0.3150, Acc: 99.7000%  \n"
          ]
        },
        {
          "output_type": "stream",
          "name": "stderr",
          "text": [
            "\rEpochs:  65%|██████▌   | 65/100 [00:05<00:02, 12.08it/s]"
          ]
        },
        {
          "output_type": "stream",
          "name": "stdout",
          "text": [
            "Epoch 64/100  Train Loss: 0.3015, Acc: 99.7000%  \n",
            "Epoch 65/100  Train Loss: 0.2889, Acc: 99.7000%  \n",
            "Epoch 66/100  Train Loss: 0.2761, Acc: 99.7000%  \n"
          ]
        },
        {
          "output_type": "stream",
          "name": "stderr",
          "text": [
            "Epochs:  69%|██████▉   | 69/100 [00:05<00:02, 12.14it/s]"
          ]
        },
        {
          "output_type": "stream",
          "name": "stdout",
          "text": [
            "Epoch 67/100  Train Loss: 0.2639, Acc: 99.7000%  \n",
            "Epoch 68/100  Train Loss: 0.2538, Acc: 99.7000%  \n",
            "Epoch 69/100  Train Loss: 0.2424, Acc: 99.8000%  \n"
          ]
        },
        {
          "output_type": "stream",
          "name": "stderr",
          "text": [
            "\rEpochs:  71%|███████   | 71/100 [00:06<00:02, 11.87it/s]"
          ]
        },
        {
          "output_type": "stream",
          "name": "stdout",
          "text": [
            "Epoch 70/100  Train Loss: 0.2325, Acc: 99.8000%  \n",
            "Epoch 71/100  Train Loss: 0.2237, Acc: 99.8000%  \n",
            "Epoch 72/100  Train Loss: 0.2148, Acc: 99.8000%  \n"
          ]
        },
        {
          "output_type": "stream",
          "name": "stderr",
          "text": [
            "Epochs:  75%|███████▌  | 75/100 [00:06<00:02, 11.85it/s]"
          ]
        },
        {
          "output_type": "stream",
          "name": "stdout",
          "text": [
            "Epoch 73/100  Train Loss: 0.2064, Acc: 99.8000%  \n",
            "Epoch 74/100  Train Loss: 0.1985, Acc: 99.9000%  \n",
            "Epoch 75/100  Train Loss: 0.1904, Acc: 99.9000%  \n"
          ]
        },
        {
          "output_type": "stream",
          "name": "stderr",
          "text": [
            "\rEpochs:  77%|███████▋  | 77/100 [00:06<00:01, 11.93it/s]"
          ]
        },
        {
          "output_type": "stream",
          "name": "stdout",
          "text": [
            "Epoch 76/100  Train Loss: 0.1833, Acc: 99.9000%  \n",
            "Epoch 77/100  Train Loss: 0.1767, Acc: 99.9000%  \n",
            "Epoch 78/100  Train Loss: 0.1705, Acc: 99.9000%  \n"
          ]
        },
        {
          "output_type": "stream",
          "name": "stderr",
          "text": [
            "Epochs:  81%|████████  | 81/100 [00:06<00:01, 11.96it/s]"
          ]
        },
        {
          "output_type": "stream",
          "name": "stdout",
          "text": [
            "Epoch 79/100  Train Loss: 0.1640, Acc: 99.9000%  \n",
            "Epoch 80/100  Train Loss: 0.1583, Acc: 99.9000%  \n",
            "Epoch 81/100  Train Loss: 0.1523, Acc: 99.9000%  \n"
          ]
        },
        {
          "output_type": "stream",
          "name": "stderr",
          "text": [
            "\rEpochs:  83%|████████▎ | 83/100 [00:07<00:01, 11.97it/s]"
          ]
        },
        {
          "output_type": "stream",
          "name": "stdout",
          "text": [
            "Epoch 82/100  Train Loss: 0.1474, Acc: 99.9000%  \n",
            "Epoch 83/100  Train Loss: 0.1419, Acc: 100.0000%  \n",
            "Epoch 84/100  Train Loss: 0.1370, Acc: 100.0000%  \n"
          ]
        },
        {
          "output_type": "stream",
          "name": "stderr",
          "text": [
            "Epochs:  87%|████████▋ | 87/100 [00:07<00:01, 11.96it/s]"
          ]
        },
        {
          "output_type": "stream",
          "name": "stdout",
          "text": [
            "Epoch 85/100  Train Loss: 0.1327, Acc: 100.0000%  \n",
            "Epoch 86/100  Train Loss: 0.1286, Acc: 99.9000%  \n",
            "Epoch 87/100  Train Loss: 0.1241, Acc: 100.0000%  \n"
          ]
        },
        {
          "output_type": "stream",
          "name": "stderr",
          "text": [
            "\rEpochs:  89%|████████▉ | 89/100 [00:07<00:00, 11.96it/s]"
          ]
        },
        {
          "output_type": "stream",
          "name": "stdout",
          "text": [
            "Epoch 88/100  Train Loss: 0.1200, Acc: 100.0000%  \n",
            "Epoch 89/100  Train Loss: 0.1159, Acc: 100.0000%  \n",
            "Epoch 90/100  Train Loss: 0.1122, Acc: 100.0000%  \n"
          ]
        },
        {
          "output_type": "stream",
          "name": "stderr",
          "text": [
            "Epochs:  93%|█████████▎| 93/100 [00:07<00:00, 12.02it/s]"
          ]
        },
        {
          "output_type": "stream",
          "name": "stdout",
          "text": [
            "Epoch 91/100  Train Loss: 0.1085, Acc: 100.0000%  \n",
            "Epoch 92/100  Train Loss: 0.1051, Acc: 100.0000%  \n",
            "Epoch 93/100  Train Loss: 0.1020, Acc: 100.0000%  \n"
          ]
        },
        {
          "output_type": "stream",
          "name": "stderr",
          "text": [
            "\rEpochs:  95%|█████████▌| 95/100 [00:08<00:00, 12.05it/s]"
          ]
        },
        {
          "output_type": "stream",
          "name": "stdout",
          "text": [
            "Epoch 94/100  Train Loss: 0.0991, Acc: 100.0000%  \n",
            "Epoch 95/100  Train Loss: 0.0960, Acc: 100.0000%  \n",
            "Epoch 96/100  Train Loss: 0.0932, Acc: 100.0000%  \n"
          ]
        },
        {
          "output_type": "stream",
          "name": "stderr",
          "text": [
            "Epochs:  99%|█████████▉| 99/100 [00:08<00:00, 12.00it/s]"
          ]
        },
        {
          "output_type": "stream",
          "name": "stdout",
          "text": [
            "Epoch 97/100  Train Loss: 0.0904, Acc: 100.0000%  \n",
            "Epoch 98/100  Train Loss: 0.0876, Acc: 100.0000%  \n",
            "Epoch 99/100  Train Loss: 0.0855, Acc: 100.0000%  \n"
          ]
        },
        {
          "output_type": "stream",
          "name": "stderr",
          "text": [
            "\rEpochs: 100%|██████████| 100/100 [00:08<00:00, 11.80it/s]\n"
          ]
        },
        {
          "output_type": "stream",
          "name": "stdout",
          "text": [
            "Epoch 100/100  Train Loss: 0.0828, Acc: 100.0000%  \n",
            "Test set accuracy: 94.5000%\n"
          ]
        },
        {
          "output_type": "display_data",
          "data": {
            "text/plain": [
              "<Figure size 800x400 with 2 Axes>"
            ],
            "image/png": "[encoded data removed]"
          },
          "metadata": {}
        },
        {
          "output_type": "display_data",
          "data": {
            "text/plain": [
              "<Figure size 800x600 with 2 Axes>"
            ],
            "image/png": "[encoded data removed]"
          },
          "metadata": {}
        }
      ],
      "source": [
        "#------------Import Data---------------\n",
        "csv_path_cnt= ('Connectome.csv')\n",
        "cntset = pd.read_csv(csv_path_cnt)\n",
        "csv_path_ann= ('DoOR.csv')\n",
        "X_ann = pd.read_csv(csv_path_ann)\n",
        "\n",
        "ff=cntset[cntset[\"directionality\"]=='feedforward']\n",
        "otp=ff[(ff[\"pre_class\"]=='ORN') & (ff[\"post_class\"]=='ALPN')]\n",
        "ptk=ff[(ff['pre_class']=='ALPN') & (ff['post_class']=='KC')]\n",
        "\n",
        "#-----------ORN to ALPN mask: 'mask_otp'-----------------\n",
        "otp_unique = otp[['pre_root_id','post_root_id']]\n",
        "mask_otp_norm = pd.crosstab(\n",
        "    index=otp_unique['pre_root_id'],    # Row: ORN ID\n",
        "    columns=otp_unique['post_root_id']  # Column: ALPN ID\n",
        "    , values=otp['syn_count']           # syn count\n",
        "    , aggfunc='sum'\n",
        "    ).fillna(0)                         #NaN = 0\n",
        "\n",
        "mask_otp = torch.from_numpy(mask_otp_norm.T.values).float().to(device)  # (615, 2278)\n",
        "\n",
        "#------------ALPN to KC mask: 'mask_ptk'-----------------\n",
        "alpn_ids=mask_otp_norm.columns\n",
        "\n",
        "ptk_unique=ptk[['pre_root_id', 'post_root_id']]\n",
        "mask_ptk_norm = (\n",
        "    pd.crosstab(\n",
        "        index=ptk_unique['pre_root_id'],    # Row: ALPN ID\n",
        "        columns=ptk_unique['post_root_id'], # Column: KC ID\n",
        "        values=ptk['syn_count'],\n",
        "        aggfunc='sum'\n",
        "    )\n",
        "    .reindex(index=alpn_ids,   # Make ALPN ID 615\n",
        "             fill_value=0)\n",
        "    .fillna(0)                 # NaN = 0\n",
        ")\n",
        "mask_ptk = torch.from_numpy(mask_ptk_norm.T.values).float().to(device)  # (4907,334)\n",
        "\n",
        "\n",
        "#-----------Neormalization by He: 'mask_otp_n' & 'mask_ptk_n'------\n",
        "def synapse_he_init(msk):\n",
        "\n",
        "    syn_np = msk.cpu().numpy() if hasattr(msk, 'cpu') else msk\n",
        "    fan_in = syn_np.shape[1]\n",
        "    device = msk.device if hasattr(msk, 'device') else torch.device('cpu')\n",
        "\n",
        "    S = torch.from_numpy(syn_np).float().to(device)\n",
        "\n",
        "    sign = torch.sign(S)\n",
        "    mag  = torch.abs(S)\n",
        "\n",
        "    # positive/negative each\n",
        "    e_mask = sign > 0\n",
        "    i_mask = sign < 0\n",
        "    if e_mask.any():\n",
        "        block = mag[e_mask]\n",
        "        mag[e_mask] = (block - block.mean()) / (block.std(unbiased=False) + 1e-6)\n",
        "    if i_mask.any():\n",
        "        block = mag[i_mask]\n",
        "        mag[i_mask] = (block - block.mean()) / (block.std(unbiased=False) + 1e-6)\n",
        "\n",
        "    # 5) He Initialization\n",
        "    sigma_target = math.sqrt(2.0 / fan_in)\n",
        "\n",
        "    W0 = sign * mag * sigma_target\n",
        "    return W0\n",
        "\n",
        "mask_otp_n = synapse_he_init(mask_otp).to(device)  # (615,2278)\n",
        "mask_ptk_n = synapse_he_init(mask_ptk).to(device)  # (4907,615)\n",
        "\n",
        "\n",
        "#-----------------------MaskedLinear()----------------------------\n",
        "class MaskedLinear(nn.Module):\n",
        "    def __init__(self, in_features, out_features, weight):\n",
        "        super().__init__()\n",
        "        self.weight = nn.Parameter(weight)\n",
        "        self.bias   = nn.Parameter(torch.zeros(out_features))\n",
        "\n",
        "        self.register_buffer('mask', torch.sign(weight).float())    # +1/-1/0 mask\n",
        "\n",
        "    def forward(self, x):\n",
        "        w = torch.abs(self.weight) * self.mask\n",
        "        # Use functional linear transformation\n",
        "        return torch.nn.functional.linear(x, w, self.bias)\n",
        "\n",
        "#---------------------Odor Classifier()---------------------------\n",
        "class Odor_classifier(nn.Module):\n",
        "  def __init__(self,input_dim,output_dim, mask1, mask2):\n",
        "    super().__init__()\n",
        "    self.net=nn.Sequential(\n",
        "        MaskedLinear(input_dim,615, mask1),\n",
        "        nn.ReLU(),\n",
        "        MaskedLinear(615,4907, mask2),\n",
        "        nn.ReLU(),\n",
        "        nn.Linear(4907,output_dim)\n",
        "    )\n",
        "  def forward(self, x):\n",
        "    return self.net(x)\n",
        "\n",
        "model = Odor_classifier(input_dim=2278, output_dim=250, mask1=mask_otp_n, mask2=mask_ptk_n).to(device)\n",
        "\n",
        "criterion = nn.CrossEntropyLoss()\n",
        "optimizer = optim.Adam(model.parameters(), lr=1e-4, weight_decay=1e-4)\n",
        "\n",
        "#-----------------------Train & Test----------------------\n",
        "cls_labels = []\n",
        "for i in range(250):\n",
        "  cls_labels.append(f'Odor_({i+1})')\n",
        "\n",
        "le=LabelEncoder()\n",
        "y_int=le.fit_transform(cls_labels)\n",
        "y = y_int\n",
        "y_out=torch.tensor(y,dtype=torch.long)\n",
        "\n",
        "x_train=[]\n",
        "y_train=[]\n",
        "x_test=[]\n",
        "y_test=[]\n",
        "\n",
        "idx=torch.randint(0,250,(1000,))\n",
        "\n",
        "for n in idx:\n",
        "  noise=torch.normal(mean=0,std=0.2,size=(2278,))\n",
        "\n",
        "  # Exclude the first column 'Unnamed_0' and convert to numeric, coercing errors\n",
        "  xi = pd.to_numeric(X_ann.iloc[n.item(), 1:], errors='coerce')\n",
        "  xn  = torch.zeros(2278, dtype=torch.float32)\n",
        "  # Fill potential NaN values with 0 before converting to tensor\n",
        "  xn = torch.tensor(xi.fillna(0).values, dtype=torch.float32) + noise # Convert pandas Series to tensor\n",
        "  x_train.append(xn)\n",
        "  y_train.append(y_out[n]) # Append the individual element y_out[n]\n",
        "\n",
        "idx=torch.randint(0,250,(200,))\n",
        "\n",
        "for k in idx:\n",
        "  noise=torch.normal(mean=0,std=0.2,size=(2278,))\n",
        "\n",
        "  # Exclude the first column 'Unnamed_0' and convert to numeric, coercing errors\n",
        "  xi = pd.to_numeric(X_ann.iloc[k.item(), 1:], errors='coerce')\n",
        "  xn  = torch.zeros(2278, dtype=torch.float32)\n",
        "  # Fill potential NaN values with 0 before converting to tensor\n",
        "  xn = torch.tensor(xi.fillna(0).values, dtype=torch.float32) + noise # Convert pandas Series to tensor\n",
        "  x_test.append(xn)\n",
        "  y_test.append(y_out[k]) # Append the individual element y_out[k]\n",
        "\n",
        "x_train = torch.stack(x_train).to(dtype=torch.float32)\n",
        "y_train = torch.stack(y_train).to(dtype=torch.long)\n",
        "x_test = torch.stack(x_test).to(dtype=torch.float32)\n",
        "y_test = torch.stack(y_test).to(dtype=torch.long)\n",
        "\n",
        "train_ds = TensorDataset(x_train, y_train)\n",
        "test_ds  = TensorDataset(x_test,  y_test)\n",
        "\n",
        "train_loader = DataLoader(train_ds, batch_size=64, shuffle=True)\n",
        "test_loader  = DataLoader(test_ds,  batch_size=64, shuffle=False)\n",
        "\n",
        "#---------------Train loop----------------\n",
        "\n",
        "num_epochs = 100\n",
        "train_losses, train_accs = [], []\n",
        "\n",
        "for epoch in trange(num_epochs, desc=\"Epochs\"):\n",
        "    model.train()\n",
        "    tr_loss = tr_acc = 0.0\n",
        "    y_true = []\n",
        "    y_pred = []\n",
        "    for xb, yb in train_loader:\n",
        "        xb, yb = xb.to(device), yb.to(device)\n",
        "        optimizer.zero_grad()\n",
        "        logits = model(xb)\n",
        "        loss   = criterion(logits, yb)\n",
        "        loss.backward()\n",
        "        optimizer.step()\n",
        "\n",
        "        tr_loss += loss.item() * xb.size(0)\n",
        "        tr_acc  += (logits.argmax(dim=1) == yb).float().sum().item()\n",
        "\n",
        "        # for confusion matrix\n",
        "        y_true.append(yb.cpu())\n",
        "        y_pred.append(logits.argmax(dim=1).cpu())\n",
        "\n",
        "    tr_loss /= len(train_loader.dataset)\n",
        "    tr_acc  /= len(train_loader.dataset)\n",
        "    train_losses.append(tr_loss)\n",
        "    train_accs.append(tr_acc)\n",
        "\n",
        "    print(f\"Epoch {epoch+1:02d}/{num_epochs}  \"\n",
        "          f\"Train Loss: {tr_loss:.4f}, Acc: {tr_acc:.4%}  \")\n",
        "\n",
        "\n",
        "#------------Test Accuracy---------\n",
        "model.eval()\n",
        "te_correct = 0\n",
        "total_samples = 0\n",
        "with torch.no_grad():\n",
        "    for xb, yb in test_loader:\n",
        "        xb, yb = xb.to(device), yb.to(device)\n",
        "        logits = model(xb)\n",
        "        te_correct += (logits.argmax(dim=1) == yb).float().sum().item()\n",
        "        total_samples += xb.size(0)\n",
        "test_acc = te_correct / total_samples\n",
        "print(f\"Test set accuracy: {test_acc:.4%}\")\n",
        "\n",
        "\n",
        "#---------Train result plot---------\n",
        "fig, ax1 = plt.subplots(figsize=(8, 4))\n",
        "# Loss: 왼쪽 y축\n",
        "ax1.plot(train_losses, color='tab:blue', label='Train Loss')\n",
        "ax1.set_xlabel('Epoch')\n",
        "ax1.set_ylabel('Loss', color='tab:blue')\n",
        "ax1.tick_params(axis='y', labelcolor='tab:blue')\n",
        "# Accuracy: 오른쪽 y축\n",
        "ax2 = ax1.twinx()\n",
        "ax2.plot(train_accs, color='tab:orange', label='Train Acc')\n",
        "ax2.set_ylabel('Accuracy', color='tab:orange')\n",
        "ax2.tick_params(axis='y', labelcolor='tab:orange')\n",
        "\n",
        "lines_1, labels_1 = ax1.get_legend_handles_labels()\n",
        "lines_2, labels_2 = ax2.get_legend_handles_labels()\n",
        "ax1.legend(lines_1 + lines_2, labels_1 + labels_2, loc='center right')\n",
        "\n",
        "plt.title('Train Loss & Accuracy')\n",
        "plt.show()\n",
        "\n",
        "\n",
        "# ---------Confusion_matrix---------\n",
        "y_true_all = torch.cat(y_true).numpy()\n",
        "y_pred_all = torch.cat(y_pred).numpy()\n",
        "\n",
        "cm = confusion_matrix(y_true_all, y_pred_all)\n",
        "\n",
        "plt.figure(figsize=(8,6))\n",
        "sns.heatmap(cm, annot=False, fmt='d', cmap='Blues')\n",
        "plt.xlabel(\"Predicted label\")\n",
        "plt.ylabel(\"True label\")\n",
        "plt.title(\"Confusion Matrix\")\n",
        "plt.show()"
      ]
    }
  ]
}