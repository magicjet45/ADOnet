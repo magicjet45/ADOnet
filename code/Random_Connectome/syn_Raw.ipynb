{
  "nbformat": 4,
  "nbformat_minor": 0,
  "metadata": {
    "colab": {
      "provenance": [],
      "gpuType": "T4"
    },
    "kernelspec": {
      "name": "python3",
      "display_name": "Python 3"
    },
    "language_info": {
      "name": "python"
    },
    "accelerator": "GPU"
  },
  "cells": [
    {
      "cell_type": "code",
      "execution_count": 12,
      "metadata": {
        "colab": {
          "base_uri": "https://localhost:8080/",
          "height": 1000
        },
        "id": "bBCw92xxe2op",
        "outputId": "90173fd7-889d-4d1c-eb0e-4b1c4b392583"
      },
      "outputs": [
        {
          "output_type": "stream",
          "name": "stderr",
          "text": [
            "Epochs:   2%|▏         | 2/100 [00:00<00:09, 10.33it/s]"
          ]
        },
        {
          "output_type": "stream",
          "name": "stdout",
          "text": [
            "Epoch 01/100  Train Loss: 108681.0456, Acc: 0.3000%  \n",
            "Epoch 02/100  Train Loss: 124395.5936, Acc: 0.9000%  \n",
            "Epoch 03/100  Train Loss: 196917.6016, Acc: 0.5000%  \n"
          ]
        },
        {
          "output_type": "stream",
          "name": "stderr",
          "text": [
            "Epochs:   6%|▌         | 6/100 [00:00<00:08, 10.88it/s]"
          ]
        },
        {
          "output_type": "stream",
          "name": "stdout",
          "text": [
            "Epoch 04/100  Train Loss: 261147.7888, Acc: 0.2000%  \n",
            "Epoch 05/100  Train Loss: 304701.7382, Acc: 0.0000%  \n",
            "Epoch 06/100  Train Loss: 354828.5585, Acc: 0.1000%  \n"
          ]
        },
        {
          "output_type": "stream",
          "name": "stderr",
          "text": [
            "\rEpochs:   8%|▊         | 8/100 [00:00<00:08, 10.96it/s]"
          ]
        },
        {
          "output_type": "stream",
          "name": "stdout",
          "text": [
            "Epoch 07/100  Train Loss: 375781.5190, Acc: 0.3000%  \n",
            "Epoch 08/100  Train Loss: 324745.8922, Acc: 0.6000%  \n",
            "Epoch 09/100  Train Loss: 283343.2523, Acc: 0.6000%  \n"
          ]
        },
        {
          "output_type": "stream",
          "name": "stderr",
          "text": [
            "Epochs:  12%|█▏        | 12/100 [00:01<00:07, 11.23it/s]"
          ]
        },
        {
          "output_type": "stream",
          "name": "stdout",
          "text": [
            "Epoch 10/100  Train Loss: 245602.0928, Acc: 1.0000%  \n",
            "Epoch 11/100  Train Loss: 196777.7698, Acc: 1.0000%  \n",
            "Epoch 12/100  Train Loss: 168919.9122, Acc: 1.7000%  \n"
          ]
        },
        {
          "output_type": "stream",
          "name": "stderr",
          "text": [
            "\rEpochs:  14%|█▍        | 14/100 [00:01<00:07, 11.27it/s]"
          ]
        },
        {
          "output_type": "stream",
          "name": "stdout",
          "text": [
            "Epoch 13/100  Train Loss: 141031.6259, Acc: 0.9000%  \n",
            "Epoch 14/100  Train Loss: 117158.1110, Acc: 1.5000%  \n",
            "Epoch 15/100  Train Loss: 95964.1424, Acc: 1.0000%  \n"
          ]
        },
        {
          "output_type": "stream",
          "name": "stderr",
          "text": [
            "Epochs:  18%|█▊        | 18/100 [00:01<00:07, 10.92it/s]"
          ]
        },
        {
          "output_type": "stream",
          "name": "stdout",
          "text": [
            "Epoch 16/100  Train Loss: 83687.3047, Acc: 1.2000%  \n",
            "Epoch 17/100  Train Loss: 72144.1793, Acc: 2.2000%  \n",
            "Epoch 18/100  Train Loss: 65907.8503, Acc: 1.3000%  \n"
          ]
        },
        {
          "output_type": "stream",
          "name": "stderr",
          "text": [
            "\rEpochs:  20%|██        | 20/100 [00:01<00:07, 10.93it/s]"
          ]
        },
        {
          "output_type": "stream",
          "name": "stdout",
          "text": [
            "Epoch 19/100  Train Loss: 66928.7954, Acc: 1.5000%  \n",
            "Epoch 20/100  Train Loss: 67941.4013, Acc: 2.6000%  \n",
            "Epoch 21/100  Train Loss: 61185.1962, Acc: 1.7000%  \n"
          ]
        },
        {
          "output_type": "stream",
          "name": "stderr",
          "text": [
            "Epochs:  24%|██▍       | 24/100 [00:02<00:06, 10.89it/s]"
          ]
        },
        {
          "output_type": "stream",
          "name": "stdout",
          "text": [
            "Epoch 22/100  Train Loss: 59441.8376, Acc: 2.3000%  \n",
            "Epoch 23/100  Train Loss: 59314.3446, Acc: 2.1000%  \n",
            "Epoch 24/100  Train Loss: 57184.1479, Acc: 3.4000%  \n"
          ]
        },
        {
          "output_type": "stream",
          "name": "stderr",
          "text": [
            "\rEpochs:  26%|██▌       | 26/100 [00:02<00:06, 11.24it/s]"
          ]
        },
        {
          "output_type": "stream",
          "name": "stdout",
          "text": [
            "Epoch 25/100  Train Loss: 55358.0202, Acc: 3.6000%  \n",
            "Epoch 26/100  Train Loss: 51243.2822, Acc: 4.5000%  \n",
            "Epoch 27/100  Train Loss: 48923.9609, Acc: 3.5000%  \n"
          ]
        },
        {
          "output_type": "stream",
          "name": "stderr",
          "text": [
            "Epochs:  30%|███       | 30/100 [00:02<00:06, 11.60it/s]"
          ]
        },
        {
          "output_type": "stream",
          "name": "stdout",
          "text": [
            "Epoch 28/100  Train Loss: 48229.7137, Acc: 3.3000%  \n",
            "Epoch 29/100  Train Loss: 52901.9212, Acc: 2.8000%  \n",
            "Epoch 30/100  Train Loss: 52707.2803, Acc: 4.1000%  \n"
          ]
        },
        {
          "output_type": "stream",
          "name": "stderr",
          "text": [
            "\rEpochs:  32%|███▏      | 32/100 [00:02<00:05, 11.80it/s]"
          ]
        },
        {
          "output_type": "stream",
          "name": "stdout",
          "text": [
            "Epoch 31/100  Train Loss: 55044.0517, Acc: 4.9000%  \n",
            "Epoch 32/100  Train Loss: 53777.4345, Acc: 4.3000%  \n",
            "Epoch 33/100  Train Loss: 52780.7622, Acc: 4.2000%  \n"
          ]
        },
        {
          "output_type": "stream",
          "name": "stderr",
          "text": [
            "Epochs:  36%|███▌      | 36/100 [00:03<00:05, 12.10it/s]"
          ]
        },
        {
          "output_type": "stream",
          "name": "stdout",
          "text": [
            "Epoch 34/100  Train Loss: 52391.7456, Acc: 4.6000%  \n",
            "Epoch 35/100  Train Loss: 50078.6027, Acc: 5.4000%  \n",
            "Epoch 36/100  Train Loss: 54601.5317, Acc: 5.2000%  \n"
          ]
        },
        {
          "output_type": "stream",
          "name": "stderr",
          "text": [
            "\rEpochs:  38%|███▊      | 38/100 [00:03<00:05, 12.09it/s]"
          ]
        },
        {
          "output_type": "stream",
          "name": "stdout",
          "text": [
            "Epoch 37/100  Train Loss: 58692.5971, Acc: 5.5000%  \n",
            "Epoch 38/100  Train Loss: 58011.5488, Acc: 5.6000%  \n",
            "Epoch 39/100  Train Loss: 56206.9016, Acc: 5.7000%  \n"
          ]
        },
        {
          "output_type": "stream",
          "name": "stderr",
          "text": [
            "Epochs:  42%|████▏     | 42/100 [00:03<00:04, 12.15it/s]"
          ]
        },
        {
          "output_type": "stream",
          "name": "stdout",
          "text": [
            "Epoch 40/100  Train Loss: 53416.0712, Acc: 5.8000%  \n",
            "Epoch 41/100  Train Loss: 55037.5471, Acc: 4.6000%  \n",
            "Epoch 42/100  Train Loss: 57855.8028, Acc: 4.7000%  \n"
          ]
        },
        {
          "output_type": "stream",
          "name": "stderr",
          "text": [
            "\rEpochs:  44%|████▍     | 44/100 [00:03<00:04, 12.22it/s]"
          ]
        },
        {
          "output_type": "stream",
          "name": "stdout",
          "text": [
            "Epoch 43/100  Train Loss: 56885.3941, Acc: 7.0000%  \n",
            "Epoch 44/100  Train Loss: 56397.9830, Acc: 6.6000%  \n",
            "Epoch 45/100  Train Loss: 56205.7958, Acc: 5.3000%  \n"
          ]
        },
        {
          "output_type": "stream",
          "name": "stderr",
          "text": [
            "Epochs:  48%|████▊     | 48/100 [00:04<00:04, 12.30it/s]"
          ]
        },
        {
          "output_type": "stream",
          "name": "stdout",
          "text": [
            "Epoch 46/100  Train Loss: 58095.0778, Acc: 7.8000%  \n",
            "Epoch 47/100  Train Loss: 59885.7292, Acc: 9.0000%  \n",
            "Epoch 48/100  Train Loss: 59600.4137, Acc: 6.8000%  \n"
          ]
        },
        {
          "output_type": "stream",
          "name": "stderr",
          "text": [
            "\rEpochs:  50%|█████     | 50/100 [00:04<00:04, 12.25it/s]"
          ]
        },
        {
          "output_type": "stream",
          "name": "stdout",
          "text": [
            "Epoch 49/100  Train Loss: 59132.0712, Acc: 8.2000%  \n",
            "Epoch 50/100  Train Loss: 60211.3841, Acc: 7.8000%  \n",
            "Epoch 51/100  Train Loss: 58005.3482, Acc: 6.6000%  \n"
          ]
        },
        {
          "output_type": "stream",
          "name": "stderr",
          "text": [
            "Epochs:  54%|█████▍    | 54/100 [00:04<00:03, 12.19it/s]"
          ]
        },
        {
          "output_type": "stream",
          "name": "stdout",
          "text": [
            "Epoch 52/100  Train Loss: 58656.0572, Acc: 7.7000%  \n",
            "Epoch 53/100  Train Loss: 56747.3979, Acc: 9.1000%  \n",
            "Epoch 54/100  Train Loss: 51633.9021, Acc: 10.7000%  \n"
          ]
        },
        {
          "output_type": "stream",
          "name": "stderr",
          "text": [
            "\rEpochs:  56%|█████▌    | 56/100 [00:04<00:03, 12.22it/s]"
          ]
        },
        {
          "output_type": "stream",
          "name": "stdout",
          "text": [
            "Epoch 55/100  Train Loss: 49426.1464, Acc: 10.1000%  \n",
            "Epoch 56/100  Train Loss: 48803.6010, Acc: 10.6000%  \n",
            "Epoch 57/100  Train Loss: 50616.3178, Acc: 8.8000%  \n"
          ]
        },
        {
          "output_type": "stream",
          "name": "stderr",
          "text": [
            "Epochs:  60%|██████    | 60/100 [00:05<00:03, 12.31it/s]"
          ]
        },
        {
          "output_type": "stream",
          "name": "stdout",
          "text": [
            "Epoch 58/100  Train Loss: 50060.3036, Acc: 9.5000%  \n",
            "Epoch 59/100  Train Loss: 50378.3260, Acc: 11.0000%  \n",
            "Epoch 60/100  Train Loss: 49694.8565, Acc: 9.5000%  \n"
          ]
        },
        {
          "output_type": "stream",
          "name": "stderr",
          "text": [
            "\rEpochs:  62%|██████▏   | 62/100 [00:05<00:03, 12.30it/s]"
          ]
        },
        {
          "output_type": "stream",
          "name": "stdout",
          "text": [
            "Epoch 61/100  Train Loss: 51469.1222, Acc: 9.8000%  \n",
            "Epoch 62/100  Train Loss: 52704.0597, Acc: 7.9000%  \n",
            "Epoch 63/100  Train Loss: 54154.0720, Acc: 11.1000%  \n"
          ]
        },
        {
          "output_type": "stream",
          "name": "stderr",
          "text": [
            "Epochs:  66%|██████▌   | 66/100 [00:05<00:02, 12.22it/s]"
          ]
        },
        {
          "output_type": "stream",
          "name": "stdout",
          "text": [
            "Epoch 64/100  Train Loss: 51697.7115, Acc: 11.6000%  \n",
            "Epoch 65/100  Train Loss: 51133.4426, Acc: 11.7000%  \n",
            "Epoch 66/100  Train Loss: 46812.1430, Acc: 12.5000%  \n"
          ]
        },
        {
          "output_type": "stream",
          "name": "stderr",
          "text": [
            "\rEpochs:  68%|██████▊   | 68/100 [00:05<00:02, 12.24it/s]"
          ]
        },
        {
          "output_type": "stream",
          "name": "stdout",
          "text": [
            "Epoch 67/100  Train Loss: 42220.0236, Acc: 13.1000%  \n",
            "Epoch 68/100  Train Loss: 41757.4680, Acc: 12.0000%  \n",
            "Epoch 69/100  Train Loss: 43473.9688, Acc: 15.2000%  \n"
          ]
        },
        {
          "output_type": "stream",
          "name": "stderr",
          "text": [
            "Epochs:  72%|███████▏  | 72/100 [00:06<00:02, 12.31it/s]"
          ]
        },
        {
          "output_type": "stream",
          "name": "stdout",
          "text": [
            "Epoch 70/100  Train Loss: 41545.9235, Acc: 12.2000%  \n",
            "Epoch 71/100  Train Loss: 43791.8711, Acc: 14.4000%  \n",
            "Epoch 72/100  Train Loss: 44286.0378, Acc: 15.3000%  \n"
          ]
        },
        {
          "output_type": "stream",
          "name": "stderr",
          "text": [
            "\rEpochs:  74%|███████▍  | 74/100 [00:06<00:02, 12.31it/s]"
          ]
        },
        {
          "output_type": "stream",
          "name": "stdout",
          "text": [
            "Epoch 73/100  Train Loss: 41951.2761, Acc: 15.0000%  \n",
            "Epoch 74/100  Train Loss: 40960.7196, Acc: 18.2000%  \n",
            "Epoch 75/100  Train Loss: 41608.3553, Acc: 14.6000%  \n"
          ]
        },
        {
          "output_type": "stream",
          "name": "stderr",
          "text": [
            "Epochs:  78%|███████▊  | 78/100 [00:06<00:01, 12.22it/s]"
          ]
        },
        {
          "output_type": "stream",
          "name": "stdout",
          "text": [
            "Epoch 76/100  Train Loss: 49037.3668, Acc: 14.0000%  \n",
            "Epoch 77/100  Train Loss: 45543.5871, Acc: 14.8000%  \n",
            "Epoch 78/100  Train Loss: 43129.6882, Acc: 14.0000%  \n"
          ]
        },
        {
          "output_type": "stream",
          "name": "stderr",
          "text": [
            "\rEpochs:  80%|████████  | 80/100 [00:06<00:01, 12.22it/s]"
          ]
        },
        {
          "output_type": "stream",
          "name": "stdout",
          "text": [
            "Epoch 79/100  Train Loss: 47944.1820, Acc: 16.0000%  \n",
            "Epoch 80/100  Train Loss: 49812.5453, Acc: 16.7000%  \n",
            "Epoch 81/100  Train Loss: 46475.7407, Acc: 14.0000%  \n"
          ]
        },
        {
          "output_type": "stream",
          "name": "stderr",
          "text": [
            "Epochs:  84%|████████▍ | 84/100 [00:07<00:01, 12.21it/s]"
          ]
        },
        {
          "output_type": "stream",
          "name": "stdout",
          "text": [
            "Epoch 82/100  Train Loss: 44071.9643, Acc: 15.3000%  \n",
            "Epoch 83/100  Train Loss: 44455.8549, Acc: 18.3000%  \n",
            "Epoch 84/100  Train Loss: 44652.5941, Acc: 16.4000%  \n"
          ]
        },
        {
          "output_type": "stream",
          "name": "stderr",
          "text": [
            "\rEpochs:  86%|████████▌ | 86/100 [00:07<00:01, 12.23it/s]"
          ]
        },
        {
          "output_type": "stream",
          "name": "stdout",
          "text": [
            "Epoch 85/100  Train Loss: 45304.5424, Acc: 16.1000%  \n",
            "Epoch 86/100  Train Loss: 44068.4368, Acc: 18.1000%  \n",
            "Epoch 87/100  Train Loss: 44642.1047, Acc: 12.3000%  \n"
          ]
        },
        {
          "output_type": "stream",
          "name": "stderr",
          "text": [
            "Epochs:  90%|█████████ | 90/100 [00:07<00:00, 12.27it/s]"
          ]
        },
        {
          "output_type": "stream",
          "name": "stdout",
          "text": [
            "Epoch 88/100  Train Loss: 42970.7267, Acc: 17.0000%  \n",
            "Epoch 89/100  Train Loss: 42020.8919, Acc: 16.9000%  \n",
            "Epoch 90/100  Train Loss: 38513.4960, Acc: 21.9000%  \n"
          ]
        },
        {
          "output_type": "stream",
          "name": "stderr",
          "text": [
            "\rEpochs:  92%|█████████▏| 92/100 [00:07<00:00, 12.17it/s]"
          ]
        },
        {
          "output_type": "stream",
          "name": "stdout",
          "text": [
            "Epoch 91/100  Train Loss: 35741.2750, Acc: 18.4000%  \n",
            "Epoch 92/100  Train Loss: 36291.2490, Acc: 22.3000%  \n",
            "Epoch 93/100  Train Loss: 33287.8094, Acc: 23.4000%  \n"
          ]
        },
        {
          "output_type": "stream",
          "name": "stderr",
          "text": [
            "Epochs:  96%|█████████▌| 96/100 [00:08<00:00, 12.26it/s]"
          ]
        },
        {
          "output_type": "stream",
          "name": "stdout",
          "text": [
            "Epoch 94/100  Train Loss: 33192.8579, Acc: 21.2000%  \n",
            "Epoch 95/100  Train Loss: 32219.1447, Acc: 23.1000%  \n",
            "Epoch 96/100  Train Loss: 34435.3361, Acc: 20.3000%  \n"
          ]
        },
        {
          "output_type": "stream",
          "name": "stderr",
          "text": [
            "\rEpochs:  98%|█████████▊| 98/100 [00:08<00:00, 12.30it/s]"
          ]
        },
        {
          "output_type": "stream",
          "name": "stdout",
          "text": [
            "Epoch 97/100  Train Loss: 32894.0442, Acc: 22.7000%  \n",
            "Epoch 98/100  Train Loss: 35299.6763, Acc: 20.6000%  \n",
            "Epoch 99/100  Train Loss: 34691.3441, Acc: 21.2000%  \n"
          ]
        },
        {
          "output_type": "stream",
          "name": "stderr",
          "text": [
            "Epochs: 100%|██████████| 100/100 [00:08<00:00, 11.89it/s]\n"
          ]
        },
        {
          "output_type": "stream",
          "name": "stdout",
          "text": [
            "Epoch 100/100  Train Loss: 33572.2744, Acc: 21.3000%  \n",
            "Test set accuracy: 15.5000%\n"
          ]
        },
        {
          "output_type": "display_data",
          "data": {
            "text/plain": [
              "<Figure size 800x400 with 2 Axes>"
            ],
            "image/png": "[encoded data removed]"
          },
          "metadata": {}
        },
        {
          "output_type": "display_data",
          "data": {
            "text/plain": [
              "<Figure size 800x600 with 2 Axes>"
            ],
            "image/png": "[encoded data removed]"
          },
          "metadata": {}
        }
      ],
      "source": [
        "#------------Import Data---------------\n",
        "csv_path_cnt= ('Connectome.csv')\n",
        "cntset = pd.read_csv(csv_path_cnt)\n",
        "csv_path_ann= ('DoOR.csv')\n",
        "X_ann = pd.read_csv(csv_path_ann)\n",
        "\n",
        "ff=cntset[cntset[\"directionality\"]=='feedforward']\n",
        "otp=ff[(ff[\"pre_class\"]=='ORN') & (ff[\"post_class\"]=='ALPN')]\n",
        "ptk=ff[(ff['pre_class']=='ALPN') & (ff['post_class']=='KC')]\n",
        "\n",
        "#-----------ORN to ALPN mask: 'mask_otp'-----------------\n",
        "otp_unique = otp[['pre_root_id','post_root_id']]\n",
        "mask_otp_norm = pd.crosstab(\n",
        "    index=otp_unique['pre_root_id'],    # Row: ORN ID\n",
        "    columns=otp_unique['post_root_id']  # Column: ALPN ID\n",
        "    , values=otp['syn_count']           # syn count\n",
        "    , aggfunc='sum'\n",
        "    ).fillna(0)                         #NaN = 0\n",
        "\n",
        "mask_otp = torch.from_numpy(mask_otp_norm.T.values).float().to(device)  # (615, 2278)\n",
        "\n",
        "#------------ALPN to KC mask: 'mask_ptk'-----------------\n",
        "alpn_ids=mask_otp_norm.columns\n",
        "\n",
        "ptk_unique=ptk[['pre_root_id', 'post_root_id']]\n",
        "mask_ptk_norm = (\n",
        "    pd.crosstab(\n",
        "        index=ptk_unique['pre_root_id'],    # Row: ALPN ID\n",
        "        columns=ptk_unique['post_root_id'], # Column: KC ID\n",
        "        values=ptk['syn_count'],\n",
        "        aggfunc='sum'\n",
        "    )\n",
        "    .reindex(index=alpn_ids,   # Make ALPN ID 615\n",
        "             fill_value=0)\n",
        "    .fillna(0)                 # NaN = 0\n",
        ")\n",
        "mask_ptk = torch.from_numpy(mask_ptk_norm.T.values).float().to(device)  # (4907,334)\n",
        "\n",
        "#-----------------------MaskedLinear()----------------------------\n",
        "class MaskedLinear(nn.Module):\n",
        "    def __init__(self, in_features, out_features, weight):\n",
        "        super().__init__()\n",
        "        self.weight = nn.Parameter(weight)\n",
        "        self.bias   = nn.Parameter(torch.zeros(out_features))\n",
        "\n",
        "        self.register_buffer('mask', torch.sign(weight).float())    # +1/-1/0 mask\n",
        "\n",
        "    def forward(self, x):\n",
        "        w = torch.abs(self.weight) * self.mask\n",
        "        # Use functional linear transformation\n",
        "        return torch.nn.functional.linear(x, w, self.bias)\n",
        "\n",
        "#---------------------Odor Classifier()---------------------------\n",
        "class Odor_classifier(nn.Module):\n",
        "  def __init__(self,input_dim,output_dim, mask1, mask2):\n",
        "    super().__init__()\n",
        "    self.net=nn.Sequential(\n",
        "        MaskedLinear(input_dim,615, mask1),\n",
        "        nn.ReLU(),\n",
        "        MaskedLinear(615,4907, mask2),\n",
        "        nn.ReLU(),\n",
        "        nn.Linear(4907,output_dim)\n",
        "    )\n",
        "  def forward(self, x):\n",
        "    return self.net(x)\n",
        "\n",
        "model = Odor_classifier(input_dim=2278, output_dim=250, mask1=mask_otp, mask2=mask_ptk).to(device)\n",
        "\n",
        "criterion = nn.CrossEntropyLoss()\n",
        "optimizer = optim.Adam(model.parameters(), lr=1e-4, weight_decay=1e-4)\n",
        "\n",
        "#-----------------------Train & Test----------------------\n",
        "cls_labels = []\n",
        "for i in range(250):\n",
        "  cls_labels.append(f'Odor_({i+1})')\n",
        "\n",
        "le=LabelEncoder()\n",
        "y_int=le.fit_transform(cls_labels)\n",
        "y = y_int\n",
        "y_out=torch.tensor(y,dtype=torch.long)\n",
        "#prototype Random input\n",
        "xp = torch.rand(250,53,dtype=torch.float32)\n",
        "\n",
        "x_train=[]\n",
        "y_train=[]\n",
        "x_test=[]\n",
        "y_test=[]\n",
        "\n",
        "idx=torch.randint(0,250,(1000,))\n",
        "\n",
        "for n in idx:\n",
        "  noise=torch.normal(mean=0,std=0.2,size=(43,53))\n",
        "\n",
        "  xi=xp[n]\n",
        "  xn  = torch.zeros(43,53, dtype=torch.float32)\n",
        "  xn=(xi+noise).flatten()\n",
        "\n",
        "  xn=xn[1:]\n",
        "\n",
        "  x_train.append(xn)\n",
        "  y_train.append(y_out[n]) # Append the individual element y_out[n]\n",
        "\n",
        "idx=torch.randint(0,250,(200,))\n",
        "\n",
        "for k in idx:\n",
        "  noise=torch.normal(mean=0,std=0.2,size=(43,53))\n",
        "\n",
        "  xi=xp[k]\n",
        "  xn  = torch.zeros(43,53, dtype=torch.float32)\n",
        "  xn=(xi+noise).flatten()\n",
        "\n",
        "  xn=xn[1:]\n",
        "\n",
        "  x_test.append(xn)\n",
        "  y_test.append(y_out[k]) # Append the individual element y_out[k]\n",
        "\n",
        "x_train = torch.stack(x_train).to(dtype=torch.float32)\n",
        "y_train = torch.stack(y_train).to(dtype=torch.long)\n",
        "x_test = torch.stack(x_test).to(dtype=torch.float32)\n",
        "y_test = torch.stack(y_test).to(dtype=torch.long)\n",
        "\n",
        "train_ds = TensorDataset(x_train, y_train)\n",
        "test_ds  = TensorDataset(x_test,  y_test)\n",
        "\n",
        "train_loader = DataLoader(train_ds, batch_size=64, shuffle=True)\n",
        "test_loader  = DataLoader(test_ds,  batch_size=64, shuffle=False)\n",
        "\n",
        "#---------------Train loop----------------\n",
        "\n",
        "num_epochs = 100\n",
        "train_losses, train_accs = [], []\n",
        "\n",
        "for epoch in trange(num_epochs, desc=\"Epochs\"):\n",
        "    model.train()\n",
        "    tr_loss = tr_acc = 0.0\n",
        "    y_true = []\n",
        "    y_pred = []\n",
        "    for xb, yb in train_loader:\n",
        "        xb, yb = xb.to(device), yb.to(device)\n",
        "        optimizer.zero_grad()\n",
        "        logits = model(xb)\n",
        "        loss   = criterion(logits, yb)\n",
        "        loss.backward()\n",
        "        optimizer.step()\n",
        "\n",
        "        tr_loss += loss.item() * xb.size(0)\n",
        "        tr_acc  += (logits.argmax(dim=1) == yb).float().sum().item()\n",
        "\n",
        "        # for confusion matrix\n",
        "        y_true.append(yb.cpu())\n",
        "        y_pred.append(logits.argmax(dim=1).cpu())\n",
        "\n",
        "    tr_loss /= len(train_loader.dataset)\n",
        "    tr_acc  /= len(train_loader.dataset)\n",
        "    train_losses.append(tr_loss)\n",
        "    train_accs.append(tr_acc)\n",
        "\n",
        "    print(f\"Epoch {epoch+1:02d}/{num_epochs}  \"\n",
        "          f\"Train Loss: {tr_loss:.4f}, Acc: {tr_acc:.4%}  \")\n",
        "\n",
        "\n",
        "#------------Test Accuracy---------\n",
        "model.eval()\n",
        "te_correct = 0\n",
        "total_samples = 0\n",
        "with torch.no_grad():\n",
        "    for xb, yb in test_loader:\n",
        "        xb, yb = xb.to(device), yb.to(device)\n",
        "        logits = model(xb)\n",
        "        te_correct += (logits.argmax(dim=1) == yb).float().sum().item()\n",
        "        total_samples += xb.size(0)\n",
        "test_acc = te_correct / total_samples\n",
        "print(f\"Test set accuracy: {test_acc:.4%}\")\n",
        "\n",
        "\n",
        "#---------Train result plot---------\n",
        "fig, ax1 = plt.subplots(figsize=(8, 4))\n",
        "# Loss: 왼쪽 y축\n",
        "ax1.plot(train_losses, color='tab:blue', label='Train Loss')\n",
        "ax1.set_xlabel('Epoch')\n",
        "ax1.set_ylabel('Loss', color='tab:blue')\n",
        "ax1.tick_params(axis='y', labelcolor='tab:blue')\n",
        "# Accuracy: 오른쪽 y축\n",
        "ax2 = ax1.twinx()\n",
        "ax2.plot(train_accs, color='tab:orange', label='Train Acc')\n",
        "ax2.set_ylabel('Accuracy', color='tab:orange')\n",
        "ax2.tick_params(axis='y', labelcolor='tab:orange')\n",
        "\n",
        "lines_1, labels_1 = ax1.get_legend_handles_labels()\n",
        "lines_2, labels_2 = ax2.get_legend_handles_labels()\n",
        "ax1.legend(lines_1 + lines_2, labels_1 + labels_2, loc='center right')\n",
        "\n",
        "plt.title('Train Loss & Accuracy')\n",
        "plt.show()\n",
        "\n",
        "\n",
        "# ---------Confusion_matrix---------\n",
        "y_true_all = torch.cat(y_true).numpy()\n",
        "y_pred_all = torch.cat(y_pred).numpy()\n",
        "\n",
        "cm = confusion_matrix(y_true_all, y_pred_all)\n",
        "\n",
        "plt.figure(figsize=(8,6))\n",
        "sns.heatmap(cm, annot=False, fmt='d', cmap='Blues')\n",
        "plt.xlabel(\"Predicted label\")\n",
        "plt.ylabel(\"True label\")\n",
        "plt.title(\"Confusion Matrix\")\n",
        "plt.show()"
      ]
    }
  ]
}
