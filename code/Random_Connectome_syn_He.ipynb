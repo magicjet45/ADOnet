{
  "nbformat": 4,
  "nbformat_minor": 0,
  "metadata": {
    "colab": {
      "provenance": [],
      "gpuType": "T4"
    },
    "kernelspec": {
      "name": "python3",
      "display_name": "Python 3"
    },
    "language_info": {
      "name": "python"
    },
    "accelerator": "GPU"
  },
  "cells": [
    {
      "cell_type": "code",
      "source": [
        "import numpy as np\n",
        "import pandas as pd\n",
        "import matplotlib.pyplot as plt\n",
        "from tqdm import trange\n",
        "import math\n",
        "import torch\n",
        "import torch.nn as nn\n",
        "import torch.optim as optim\n",
        "from torch.utils.data import TensorDataset, DataLoader\n",
        "from sklearn.preprocessing import LabelEncoder\n",
        "from sklearn.metrics import confusion_matrix\n",
        "import seaborn as sns\n",
        "from google.colab import drive\n",
        "import os\n",
        "\n",
        "#------------------Must change this Drive file direction----------\n",
        "drive.mount('/content/drive')\n",
        "os.chdir('/content/drive/MyDrive/Colab Notebooks/connectome')\n",
        "\n",
        "device = torch.device('cuda' if torch.cuda.is_available() else 'cpu')\n",
        "print(f\"current work direction: {os.getcwd()} Current device: {device}\")\n",
        "pd.set_option('display.max_rows',    None)\n",
        "pd.set_option('display.max_columns', None)"
      ],
      "metadata": {
        "colab": {
          "base_uri": "https://localhost:8080/"
        },
        "id": "rh_E3IhvS3HL",
        "outputId": "e7c81e91-6f06-42fe-e071-92fcdb106ac8"
      },
      "execution_count": 2,
      "outputs": [
        {
          "output_type": "stream",
          "name": "stdout",
          "text": [
            "Mounted at /content/drive\n",
            "현재 작업 디렉토리: /content/drive/MyDrive/Colab Notebooks/connectome 현재 디바이스: cpu\n"
          ]
        }
      ]
    },
    {
      "cell_type": "code",
      "execution_count": 3,
      "metadata": {
        "colab": {
          "base_uri": "https://localhost:8080/",
          "height": 1000
        },
        "id": "bBCw92xxe2op",
        "outputId": "8136e727-812d-493e-e727-85eff67b3778"
      },
      "outputs": [
        {
          "output_type": "stream",
          "name": "stderr",
          "text": [
            "Epochs:   1%|          | 1/100 [00:03<05:22,  3.26s/it]"
          ]
        },
        {
          "output_type": "stream",
          "name": "stdout",
          "text": [
            "Epoch 01/100  Train Loss: 5.5344, Acc: 0.5000%  \n"
          ]
        },
        {
          "output_type": "stream",
          "name": "stderr",
          "text": [
            "\rEpochs:   2%|▏         | 2/100 [00:05<04:18,  2.64s/it]"
          ]
        },
        {
          "output_type": "stream",
          "name": "stdout",
          "text": [
            "Epoch 02/100  Train Loss: 5.4391, Acc: 0.3000%  \n"
          ]
        },
        {
          "output_type": "stream",
          "name": "stderr",
          "text": [
            "\rEpochs:   3%|▎         | 3/100 [00:07<04:08,  2.56s/it]"
          ]
        },
        {
          "output_type": "stream",
          "name": "stdout",
          "text": [
            "Epoch 03/100  Train Loss: 5.4017, Acc: 0.8000%  \n"
          ]
        },
        {
          "output_type": "stream",
          "name": "stderr",
          "text": [
            "\rEpochs:   4%|▍         | 4/100 [00:10<03:49,  2.39s/it]"
          ]
        },
        {
          "output_type": "stream",
          "name": "stdout",
          "text": [
            "Epoch 04/100  Train Loss: 5.3850, Acc: 1.2000%  \n"
          ]
        },
        {
          "output_type": "stream",
          "name": "stderr",
          "text": [
            "\rEpochs:   5%|▌         | 5/100 [00:12<03:43,  2.36s/it]"
          ]
        },
        {
          "output_type": "stream",
          "name": "stdout",
          "text": [
            "Epoch 05/100  Train Loss: 5.3693, Acc: 2.0000%  \n"
          ]
        },
        {
          "output_type": "stream",
          "name": "stderr",
          "text": [
            "\rEpochs:   6%|▌         | 6/100 [00:15<03:54,  2.49s/it]"
          ]
        },
        {
          "output_type": "stream",
          "name": "stdout",
          "text": [
            "Epoch 06/100  Train Loss: 5.3567, Acc: 1.8000%  \n"
          ]
        },
        {
          "output_type": "stream",
          "name": "stderr",
          "text": [
            "\rEpochs:   7%|▋         | 7/100 [00:17<04:00,  2.59s/it]"
          ]
        },
        {
          "output_type": "stream",
          "name": "stdout",
          "text": [
            "Epoch 07/100  Train Loss: 5.3457, Acc: 1.1000%  \n"
          ]
        },
        {
          "output_type": "stream",
          "name": "stderr",
          "text": [
            "\rEpochs:   8%|▊         | 8/100 [00:20<03:49,  2.49s/it]"
          ]
        },
        {
          "output_type": "stream",
          "name": "stdout",
          "text": [
            "Epoch 08/100  Train Loss: 5.3337, Acc: 1.4000%  \n"
          ]
        },
        {
          "output_type": "stream",
          "name": "stderr",
          "text": [
            "\rEpochs:   9%|▉         | 9/100 [00:22<03:32,  2.34s/it]"
          ]
        },
        {
          "output_type": "stream",
          "name": "stdout",
          "text": [
            "Epoch 09/100  Train Loss: 5.3184, Acc: 2.6000%  \n"
          ]
        },
        {
          "output_type": "stream",
          "name": "stderr",
          "text": [
            "\rEpochs:  10%|█         | 10/100 [00:24<03:30,  2.33s/it]"
          ]
        },
        {
          "output_type": "stream",
          "name": "stdout",
          "text": [
            "Epoch 10/100  Train Loss: 5.3024, Acc: 3.5000%  \n"
          ]
        },
        {
          "output_type": "stream",
          "name": "stderr",
          "text": [
            "\rEpochs:  11%|█         | 11/100 [00:26<03:25,  2.30s/it]"
          ]
        },
        {
          "output_type": "stream",
          "name": "stdout",
          "text": [
            "Epoch 11/100  Train Loss: 5.2894, Acc: 5.2000%  \n"
          ]
        },
        {
          "output_type": "stream",
          "name": "stderr",
          "text": [
            "\rEpochs:  12%|█▏        | 12/100 [00:29<03:33,  2.43s/it]"
          ]
        },
        {
          "output_type": "stream",
          "name": "stdout",
          "text": [
            "Epoch 12/100  Train Loss: 5.2718, Acc: 4.7000%  \n"
          ]
        },
        {
          "output_type": "stream",
          "name": "stderr",
          "text": [
            "\rEpochs:  13%|█▎        | 13/100 [00:32<03:46,  2.61s/it]"
          ]
        },
        {
          "output_type": "stream",
          "name": "stdout",
          "text": [
            "Epoch 13/100  Train Loss: 5.2594, Acc: 3.0000%  \n"
          ]
        },
        {
          "output_type": "stream",
          "name": "stderr",
          "text": [
            "\rEpochs:  14%|█▍        | 14/100 [00:34<03:40,  2.56s/it]"
          ]
        },
        {
          "output_type": "stream",
          "name": "stdout",
          "text": [
            "Epoch 14/100  Train Loss: 5.2400, Acc: 4.2000%  \n"
          ]
        },
        {
          "output_type": "stream",
          "name": "stderr",
          "text": [
            "\rEpochs:  15%|█▌        | 15/100 [00:37<03:29,  2.47s/it]"
          ]
        },
        {
          "output_type": "stream",
          "name": "stdout",
          "text": [
            "Epoch 15/100  Train Loss: 5.2188, Acc: 5.7000%  \n"
          ]
        },
        {
          "output_type": "stream",
          "name": "stderr",
          "text": [
            "\rEpochs:  16%|█▌        | 16/100 [00:39<03:15,  2.32s/it]"
          ]
        },
        {
          "output_type": "stream",
          "name": "stdout",
          "text": [
            "Epoch 16/100  Train Loss: 5.1988, Acc: 5.8000%  \n"
          ]
        },
        {
          "output_type": "stream",
          "name": "stderr",
          "text": [
            "\rEpochs:  17%|█▋        | 17/100 [00:41<03:15,  2.35s/it]"
          ]
        },
        {
          "output_type": "stream",
          "name": "stdout",
          "text": [
            "Epoch 17/100  Train Loss: 5.1767, Acc: 6.6000%  \n"
          ]
        },
        {
          "output_type": "stream",
          "name": "stderr",
          "text": [
            "\rEpochs:  18%|█▊        | 18/100 [00:44<03:36,  2.64s/it]"
          ]
        },
        {
          "output_type": "stream",
          "name": "stdout",
          "text": [
            "Epoch 18/100  Train Loss: 5.1543, Acc: 6.6000%  \n"
          ]
        },
        {
          "output_type": "stream",
          "name": "stderr",
          "text": [
            "\rEpochs:  19%|█▉        | 19/100 [00:47<03:40,  2.72s/it]"
          ]
        },
        {
          "output_type": "stream",
          "name": "stdout",
          "text": [
            "Epoch 19/100  Train Loss: 5.1280, Acc: 7.1000%  \n"
          ]
        },
        {
          "output_type": "stream",
          "name": "stderr",
          "text": [
            "\rEpochs:  20%|██        | 20/100 [00:50<03:37,  2.71s/it]"
          ]
        },
        {
          "output_type": "stream",
          "name": "stdout",
          "text": [
            "Epoch 20/100  Train Loss: 5.1036, Acc: 9.9000%  \n"
          ]
        },
        {
          "output_type": "stream",
          "name": "stderr",
          "text": [
            "\rEpochs:  21%|██        | 21/100 [00:52<03:18,  2.51s/it]"
          ]
        },
        {
          "output_type": "stream",
          "name": "stdout",
          "text": [
            "Epoch 21/100  Train Loss: 5.0743, Acc: 9.6000%  \n"
          ]
        },
        {
          "output_type": "stream",
          "name": "stderr",
          "text": [
            "\rEpochs:  22%|██▏       | 22/100 [00:54<03:09,  2.43s/it]"
          ]
        },
        {
          "output_type": "stream",
          "name": "stdout",
          "text": [
            "Epoch 22/100  Train Loss: 5.0449, Acc: 10.8000%  \n"
          ]
        },
        {
          "output_type": "stream",
          "name": "stderr",
          "text": [
            "\rEpochs:  23%|██▎       | 23/100 [00:57<03:09,  2.46s/it]"
          ]
        },
        {
          "output_type": "stream",
          "name": "stdout",
          "text": [
            "Epoch 23/100  Train Loss: 5.0111, Acc: 15.6000%  \n"
          ]
        },
        {
          "output_type": "stream",
          "name": "stderr",
          "text": [
            "\rEpochs:  24%|██▍       | 24/100 [01:02<04:14,  3.35s/it]"
          ]
        },
        {
          "output_type": "stream",
          "name": "stdout",
          "text": [
            "Epoch 24/100  Train Loss: 4.9744, Acc: 16.1000%  \n"
          ]
        },
        {
          "output_type": "stream",
          "name": "stderr",
          "text": [
            "\rEpochs:  25%|██▌       | 25/100 [01:06<04:20,  3.48s/it]"
          ]
        },
        {
          "output_type": "stream",
          "name": "stdout",
          "text": [
            "Epoch 25/100  Train Loss: 4.9393, Acc: 14.9000%  \n"
          ]
        },
        {
          "output_type": "stream",
          "name": "stderr",
          "text": [
            "\rEpochs:  26%|██▌       | 26/100 [01:08<03:46,  3.06s/it]"
          ]
        },
        {
          "output_type": "stream",
          "name": "stdout",
          "text": [
            "Epoch 26/100  Train Loss: 4.9003, Acc: 18.0000%  \n"
          ]
        },
        {
          "output_type": "stream",
          "name": "stderr",
          "text": [
            "\rEpochs:  27%|██▋       | 27/100 [01:10<03:27,  2.84s/it]"
          ]
        },
        {
          "output_type": "stream",
          "name": "stdout",
          "text": [
            "Epoch 27/100  Train Loss: 4.8552, Acc: 19.8000%  \n"
          ]
        },
        {
          "output_type": "stream",
          "name": "stderr",
          "text": [
            "\rEpochs:  28%|██▊       | 28/100 [01:15<04:00,  3.34s/it]"
          ]
        },
        {
          "output_type": "stream",
          "name": "stdout",
          "text": [
            "Epoch 28/100  Train Loss: 4.8073, Acc: 22.9000%  \n"
          ]
        },
        {
          "output_type": "stream",
          "name": "stderr",
          "text": [
            "\rEpochs:  29%|██▉       | 29/100 [01:19<04:06,  3.48s/it]"
          ]
        },
        {
          "output_type": "stream",
          "name": "stdout",
          "text": [
            "Epoch 29/100  Train Loss: 4.7626, Acc: 26.5000%  \n"
          ]
        },
        {
          "output_type": "stream",
          "name": "stderr",
          "text": [
            "\rEpochs:  30%|███       | 30/100 [01:22<04:05,  3.51s/it]"
          ]
        },
        {
          "output_type": "stream",
          "name": "stdout",
          "text": [
            "Epoch 30/100  Train Loss: 4.7117, Acc: 29.8000%  \n"
          ]
        },
        {
          "output_type": "stream",
          "name": "stderr",
          "text": [
            "\rEpochs:  31%|███       | 31/100 [01:26<04:03,  3.53s/it]"
          ]
        },
        {
          "output_type": "stream",
          "name": "stdout",
          "text": [
            "Epoch 31/100  Train Loss: 4.6578, Acc: 28.7000%  \n"
          ]
        },
        {
          "output_type": "stream",
          "name": "stderr",
          "text": [
            "\rEpochs:  32%|███▏      | 32/100 [01:29<03:51,  3.41s/it]"
          ]
        },
        {
          "output_type": "stream",
          "name": "stdout",
          "text": [
            "Epoch 32/100  Train Loss: 4.6030, Acc: 32.3000%  \n"
          ]
        },
        {
          "output_type": "stream",
          "name": "stderr",
          "text": [
            "\rEpochs:  33%|███▎      | 33/100 [01:32<03:43,  3.33s/it]"
          ]
        },
        {
          "output_type": "stream",
          "name": "stdout",
          "text": [
            "Epoch 33/100  Train Loss: 4.5413, Acc: 34.6000%  \n"
          ]
        },
        {
          "output_type": "stream",
          "name": "stderr",
          "text": [
            "\rEpochs:  34%|███▍      | 34/100 [01:35<03:32,  3.21s/it]"
          ]
        },
        {
          "output_type": "stream",
          "name": "stdout",
          "text": [
            "Epoch 34/100  Train Loss: 4.4779, Acc: 36.6000%  \n"
          ]
        },
        {
          "output_type": "stream",
          "name": "stderr",
          "text": [
            "\rEpochs:  35%|███▌      | 35/100 [01:38<03:24,  3.15s/it]"
          ]
        },
        {
          "output_type": "stream",
          "name": "stdout",
          "text": [
            "Epoch 35/100  Train Loss: 4.4134, Acc: 40.0000%  \n"
          ]
        },
        {
          "output_type": "stream",
          "name": "stderr",
          "text": [
            "\rEpochs:  36%|███▌      | 36/100 [01:43<03:49,  3.59s/it]"
          ]
        },
        {
          "output_type": "stream",
          "name": "stdout",
          "text": [
            "Epoch 36/100  Train Loss: 4.3429, Acc: 41.6000%  \n"
          ]
        },
        {
          "output_type": "stream",
          "name": "stderr",
          "text": [
            "\rEpochs:  37%|███▋      | 37/100 [01:46<03:42,  3.54s/it]"
          ]
        },
        {
          "output_type": "stream",
          "name": "stdout",
          "text": [
            "Epoch 37/100  Train Loss: 4.2716, Acc: 46.1000%  \n"
          ]
        },
        {
          "output_type": "stream",
          "name": "stderr",
          "text": [
            "\rEpochs:  38%|███▊      | 38/100 [01:49<03:29,  3.38s/it]"
          ]
        },
        {
          "output_type": "stream",
          "name": "stdout",
          "text": [
            "Epoch 38/100  Train Loss: 4.1912, Acc: 47.6000%  \n"
          ]
        },
        {
          "output_type": "stream",
          "name": "stderr",
          "text": [
            "\rEpochs:  39%|███▉      | 39/100 [01:52<03:19,  3.27s/it]"
          ]
        },
        {
          "output_type": "stream",
          "name": "stdout",
          "text": [
            "Epoch 39/100  Train Loss: 4.1130, Acc: 49.5000%  \n"
          ]
        },
        {
          "output_type": "stream",
          "name": "stderr",
          "text": [
            "\rEpochs:  40%|████      | 40/100 [01:56<03:19,  3.32s/it]"
          ]
        },
        {
          "output_type": "stream",
          "name": "stdout",
          "text": [
            "Epoch 40/100  Train Loss: 4.0331, Acc: 50.3000%  \n"
          ]
        },
        {
          "output_type": "stream",
          "name": "stderr",
          "text": [
            "\rEpochs:  41%|████      | 41/100 [02:00<03:38,  3.70s/it]"
          ]
        },
        {
          "output_type": "stream",
          "name": "stdout",
          "text": [
            "Epoch 41/100  Train Loss: 3.9450, Acc: 53.0000%  \n"
          ]
        },
        {
          "output_type": "stream",
          "name": "stderr",
          "text": [
            "\rEpochs:  42%|████▏     | 42/100 [02:03<03:15,  3.37s/it]"
          ]
        },
        {
          "output_type": "stream",
          "name": "stdout",
          "text": [
            "Epoch 42/100  Train Loss: 3.8569, Acc: 55.0000%  \n"
          ]
        },
        {
          "output_type": "stream",
          "name": "stderr",
          "text": [
            "\rEpochs:  43%|████▎     | 43/100 [02:06<03:03,  3.22s/it]"
          ]
        },
        {
          "output_type": "stream",
          "name": "stdout",
          "text": [
            "Epoch 43/100  Train Loss: 3.7657, Acc: 58.2000%  \n"
          ]
        },
        {
          "output_type": "stream",
          "name": "stderr",
          "text": [
            "\rEpochs:  44%|████▍     | 44/100 [02:08<02:51,  3.07s/it]"
          ]
        },
        {
          "output_type": "stream",
          "name": "stdout",
          "text": [
            "Epoch 44/100  Train Loss: 3.6695, Acc: 59.1000%  \n"
          ]
        },
        {
          "output_type": "stream",
          "name": "stderr",
          "text": [
            "\rEpochs:  45%|████▌     | 45/100 [02:11<02:41,  2.93s/it]"
          ]
        },
        {
          "output_type": "stream",
          "name": "stdout",
          "text": [
            "Epoch 45/100  Train Loss: 3.5710, Acc: 62.2000%  \n"
          ]
        },
        {
          "output_type": "stream",
          "name": "stderr",
          "text": [
            "\rEpochs:  46%|████▌     | 46/100 [02:14<02:41,  2.99s/it]"
          ]
        },
        {
          "output_type": "stream",
          "name": "stdout",
          "text": [
            "Epoch 46/100  Train Loss: 3.4717, Acc: 65.2000%  \n"
          ]
        },
        {
          "output_type": "stream",
          "name": "stderr",
          "text": [
            "\rEpochs:  47%|████▋     | 47/100 [02:16<02:26,  2.77s/it]"
          ]
        },
        {
          "output_type": "stream",
          "name": "stdout",
          "text": [
            "Epoch 47/100  Train Loss: 3.3669, Acc: 67.4000%  \n"
          ]
        },
        {
          "output_type": "stream",
          "name": "stderr",
          "text": [
            "\rEpochs:  48%|████▊     | 48/100 [02:18<02:14,  2.58s/it]"
          ]
        },
        {
          "output_type": "stream",
          "name": "stdout",
          "text": [
            "Epoch 48/100  Train Loss: 3.2650, Acc: 69.7000%  \n"
          ]
        },
        {
          "output_type": "stream",
          "name": "stderr",
          "text": [
            "\rEpochs:  49%|████▉     | 49/100 [02:21<02:08,  2.52s/it]"
          ]
        },
        {
          "output_type": "stream",
          "name": "stdout",
          "text": [
            "Epoch 49/100  Train Loss: 3.1521, Acc: 71.9000%  \n"
          ]
        },
        {
          "output_type": "stream",
          "name": "stderr",
          "text": [
            "\rEpochs:  50%|█████     | 50/100 [02:24<02:07,  2.55s/it]"
          ]
        },
        {
          "output_type": "stream",
          "name": "stdout",
          "text": [
            "Epoch 50/100  Train Loss: 3.0492, Acc: 72.5000%  \n"
          ]
        },
        {
          "output_type": "stream",
          "name": "stderr",
          "text": [
            "\rEpochs:  51%|█████     | 51/100 [02:29<02:44,  3.35s/it]"
          ]
        },
        {
          "output_type": "stream",
          "name": "stdout",
          "text": [
            "Epoch 51/100  Train Loss: 2.9345, Acc: 75.7000%  \n"
          ]
        },
        {
          "output_type": "stream",
          "name": "stderr",
          "text": [
            "\rEpochs:  52%|█████▏    | 52/100 [02:32<02:41,  3.36s/it]"
          ]
        },
        {
          "output_type": "stream",
          "name": "stdout",
          "text": [
            "Epoch 52/100  Train Loss: 2.8287, Acc: 78.6000%  \n"
          ]
        },
        {
          "output_type": "stream",
          "name": "stderr",
          "text": [
            "\rEpochs:  53%|█████▎    | 53/100 [02:34<02:21,  3.02s/it]"
          ]
        },
        {
          "output_type": "stream",
          "name": "stdout",
          "text": [
            "Epoch 53/100  Train Loss: 2.7152, Acc: 82.4000%  \n"
          ]
        },
        {
          "output_type": "stream",
          "name": "stderr",
          "text": [
            "\rEpochs:  54%|█████▍    | 54/100 [02:37<02:07,  2.78s/it]"
          ]
        },
        {
          "output_type": "stream",
          "name": "stdout",
          "text": [
            "Epoch 54/100  Train Loss: 2.6043, Acc: 85.1000%  \n"
          ]
        },
        {
          "output_type": "stream",
          "name": "stderr",
          "text": [
            "\rEpochs:  55%|█████▌    | 55/100 [02:39<01:59,  2.65s/it]"
          ]
        },
        {
          "output_type": "stream",
          "name": "stdout",
          "text": [
            "Epoch 55/100  Train Loss: 2.4934, Acc: 85.5000%  \n"
          ]
        },
        {
          "output_type": "stream",
          "name": "stderr",
          "text": [
            "\rEpochs:  56%|█████▌    | 56/100 [02:44<02:25,  3.31s/it]"
          ]
        },
        {
          "output_type": "stream",
          "name": "stdout",
          "text": [
            "Epoch 56/100  Train Loss: 2.3827, Acc: 88.6000%  \n"
          ]
        },
        {
          "output_type": "stream",
          "name": "stderr",
          "text": [
            "\rEpochs:  57%|█████▋    | 57/100 [02:46<02:12,  3.08s/it]"
          ]
        },
        {
          "output_type": "stream",
          "name": "stdout",
          "text": [
            "Epoch 57/100  Train Loss: 2.2751, Acc: 90.5000%  \n"
          ]
        },
        {
          "output_type": "stream",
          "name": "stderr",
          "text": [
            "\rEpochs:  58%|█████▊    | 58/100 [02:49<02:07,  3.04s/it]"
          ]
        },
        {
          "output_type": "stream",
          "name": "stdout",
          "text": [
            "Epoch 58/100  Train Loss: 2.1676, Acc: 91.7000%  \n"
          ]
        },
        {
          "output_type": "stream",
          "name": "stderr",
          "text": [
            "\rEpochs:  59%|█████▉    | 59/100 [02:52<01:56,  2.84s/it]"
          ]
        },
        {
          "output_type": "stream",
          "name": "stdout",
          "text": [
            "Epoch 59/100  Train Loss: 2.0569, Acc: 92.3000%  \n"
          ]
        },
        {
          "output_type": "stream",
          "name": "stderr",
          "text": [
            "\rEpochs:  60%|██████    | 60/100 [02:55<01:56,  2.92s/it]"
          ]
        },
        {
          "output_type": "stream",
          "name": "stdout",
          "text": [
            "Epoch 60/100  Train Loss: 1.9557, Acc: 93.1000%  \n"
          ]
        },
        {
          "output_type": "stream",
          "name": "stderr",
          "text": [
            "\rEpochs:  61%|██████    | 61/100 [02:58<01:59,  3.08s/it]"
          ]
        },
        {
          "output_type": "stream",
          "name": "stdout",
          "text": [
            "Epoch 61/100  Train Loss: 1.8533, Acc: 94.0000%  \n"
          ]
        },
        {
          "output_type": "stream",
          "name": "stderr",
          "text": [
            "\rEpochs:  62%|██████▏   | 62/100 [03:01<01:52,  2.95s/it]"
          ]
        },
        {
          "output_type": "stream",
          "name": "stdout",
          "text": [
            "Epoch 62/100  Train Loss: 1.7522, Acc: 95.9000%  \n"
          ]
        },
        {
          "output_type": "stream",
          "name": "stderr",
          "text": [
            "\rEpochs:  63%|██████▎   | 63/100 [03:03<01:43,  2.79s/it]"
          ]
        },
        {
          "output_type": "stream",
          "name": "stdout",
          "text": [
            "Epoch 63/100  Train Loss: 1.6563, Acc: 96.9000%  \n"
          ]
        },
        {
          "output_type": "stream",
          "name": "stderr",
          "text": [
            "\rEpochs:  64%|██████▍   | 64/100 [03:06<01:35,  2.65s/it]"
          ]
        },
        {
          "output_type": "stream",
          "name": "stdout",
          "text": [
            "Epoch 64/100  Train Loss: 1.5589, Acc: 96.7000%  \n"
          ]
        },
        {
          "output_type": "stream",
          "name": "stderr",
          "text": [
            "\rEpochs:  65%|██████▌   | 65/100 [03:08<01:27,  2.50s/it]"
          ]
        },
        {
          "output_type": "stream",
          "name": "stdout",
          "text": [
            "Epoch 65/100  Train Loss: 1.4706, Acc: 98.2000%  \n"
          ]
        },
        {
          "output_type": "stream",
          "name": "stderr",
          "text": [
            "\rEpochs:  66%|██████▌   | 66/100 [03:11<01:29,  2.63s/it]"
          ]
        },
        {
          "output_type": "stream",
          "name": "stdout",
          "text": [
            "Epoch 66/100  Train Loss: 1.3878, Acc: 98.5000%  \n"
          ]
        },
        {
          "output_type": "stream",
          "name": "stderr",
          "text": [
            "\rEpochs:  67%|██████▋   | 67/100 [03:13<01:27,  2.66s/it]"
          ]
        },
        {
          "output_type": "stream",
          "name": "stdout",
          "text": [
            "Epoch 67/100  Train Loss: 1.3026, Acc: 98.4000%  \n"
          ]
        },
        {
          "output_type": "stream",
          "name": "stderr",
          "text": [
            "\rEpochs:  68%|██████▊   | 68/100 [03:16<01:21,  2.55s/it]"
          ]
        },
        {
          "output_type": "stream",
          "name": "stdout",
          "text": [
            "Epoch 68/100  Train Loss: 1.2259, Acc: 98.5000%  \n"
          ]
        },
        {
          "output_type": "stream",
          "name": "stderr",
          "text": [
            "\rEpochs:  69%|██████▉   | 69/100 [03:18<01:16,  2.47s/it]"
          ]
        },
        {
          "output_type": "stream",
          "name": "stdout",
          "text": [
            "Epoch 69/100  Train Loss: 1.1477, Acc: 99.1000%  \n"
          ]
        },
        {
          "output_type": "stream",
          "name": "stderr",
          "text": [
            "\rEpochs:  70%|███████   | 70/100 [03:20<01:12,  2.42s/it]"
          ]
        },
        {
          "output_type": "stream",
          "name": "stdout",
          "text": [
            "Epoch 70/100  Train Loss: 1.0762, Acc: 99.4000%  \n"
          ]
        },
        {
          "output_type": "stream",
          "name": "stderr",
          "text": [
            "\rEpochs:  71%|███████   | 71/100 [03:22<01:08,  2.35s/it]"
          ]
        },
        {
          "output_type": "stream",
          "name": "stdout",
          "text": [
            "Epoch 71/100  Train Loss: 1.0123, Acc: 99.4000%  \n"
          ]
        },
        {
          "output_type": "stream",
          "name": "stderr",
          "text": [
            "\rEpochs:  72%|███████▏  | 72/100 [03:26<01:12,  2.60s/it]"
          ]
        },
        {
          "output_type": "stream",
          "name": "stdout",
          "text": [
            "Epoch 72/100  Train Loss: 0.9453, Acc: 99.6000%  \n"
          ]
        },
        {
          "output_type": "stream",
          "name": "stderr",
          "text": [
            "\rEpochs:  73%|███████▎  | 73/100 [03:29<01:12,  2.69s/it]"
          ]
        },
        {
          "output_type": "stream",
          "name": "stdout",
          "text": [
            "Epoch 73/100  Train Loss: 0.8897, Acc: 99.7000%  \n"
          ]
        },
        {
          "output_type": "stream",
          "name": "stderr",
          "text": [
            "\rEpochs:  74%|███████▍  | 74/100 [03:31<01:07,  2.59s/it]"
          ]
        },
        {
          "output_type": "stream",
          "name": "stdout",
          "text": [
            "Epoch 74/100  Train Loss: 0.8324, Acc: 99.9000%  \n"
          ]
        },
        {
          "output_type": "stream",
          "name": "stderr",
          "text": [
            "\rEpochs:  75%|███████▌  | 75/100 [03:33<01:02,  2.50s/it]"
          ]
        },
        {
          "output_type": "stream",
          "name": "stdout",
          "text": [
            "Epoch 75/100  Train Loss: 0.7785, Acc: 99.9000%  \n"
          ]
        },
        {
          "output_type": "stream",
          "name": "stderr",
          "text": [
            "\rEpochs:  76%|███████▌  | 76/100 [03:36<01:00,  2.52s/it]"
          ]
        },
        {
          "output_type": "stream",
          "name": "stdout",
          "text": [
            "Epoch 76/100  Train Loss: 0.7288, Acc: 99.9000%  \n"
          ]
        },
        {
          "output_type": "stream",
          "name": "stderr",
          "text": [
            "\rEpochs:  77%|███████▋  | 77/100 [03:41<01:17,  3.38s/it]"
          ]
        },
        {
          "output_type": "stream",
          "name": "stdout",
          "text": [
            "Epoch 77/100  Train Loss: 0.6826, Acc: 99.9000%  \n"
          ]
        },
        {
          "output_type": "stream",
          "name": "stderr",
          "text": [
            "\rEpochs:  78%|███████▊  | 78/100 [03:47<01:30,  4.09s/it]"
          ]
        },
        {
          "output_type": "stream",
          "name": "stdout",
          "text": [
            "Epoch 78/100  Train Loss: 0.6382, Acc: 99.9000%  \n"
          ]
        },
        {
          "output_type": "stream",
          "name": "stderr",
          "text": [
            "\rEpochs:  79%|███████▉  | 79/100 [03:52<01:34,  4.52s/it]"
          ]
        },
        {
          "output_type": "stream",
          "name": "stdout",
          "text": [
            "Epoch 79/100  Train Loss: 0.5999, Acc: 100.0000%  \n"
          ]
        },
        {
          "output_type": "stream",
          "name": "stderr",
          "text": [
            "\rEpochs:  80%|████████  | 80/100 [03:57<01:29,  4.47s/it]"
          ]
        },
        {
          "output_type": "stream",
          "name": "stdout",
          "text": [
            "Epoch 80/100  Train Loss: 0.5616, Acc: 99.9000%  \n"
          ]
        },
        {
          "output_type": "stream",
          "name": "stderr",
          "text": [
            "\rEpochs:  81%|████████  | 81/100 [04:00<01:15,  4.00s/it]"
          ]
        },
        {
          "output_type": "stream",
          "name": "stdout",
          "text": [
            "Epoch 81/100  Train Loss: 0.5273, Acc: 100.0000%  \n"
          ]
        },
        {
          "output_type": "stream",
          "name": "stderr",
          "text": [
            "\rEpochs:  82%|████████▏ | 82/100 [04:02<01:05,  3.66s/it]"
          ]
        },
        {
          "output_type": "stream",
          "name": "stdout",
          "text": [
            "Epoch 82/100  Train Loss: 0.4956, Acc: 100.0000%  \n"
          ]
        },
        {
          "output_type": "stream",
          "name": "stderr",
          "text": [
            "\rEpochs:  83%|████████▎ | 83/100 [04:05<00:58,  3.45s/it]"
          ]
        },
        {
          "output_type": "stream",
          "name": "stdout",
          "text": [
            "Epoch 83/100  Train Loss: 0.4629, Acc: 100.0000%  \n"
          ]
        },
        {
          "output_type": "stream",
          "name": "stderr",
          "text": [
            "\rEpochs:  84%|████████▍ | 84/100 [04:09<00:55,  3.45s/it]"
          ]
        },
        {
          "output_type": "stream",
          "name": "stdout",
          "text": [
            "Epoch 84/100  Train Loss: 0.4372, Acc: 100.0000%  \n"
          ]
        },
        {
          "output_type": "stream",
          "name": "stderr",
          "text": [
            "\rEpochs:  85%|████████▌ | 85/100 [04:12<00:52,  3.48s/it]"
          ]
        },
        {
          "output_type": "stream",
          "name": "stdout",
          "text": [
            "Epoch 85/100  Train Loss: 0.4103, Acc: 100.0000%  \n"
          ]
        },
        {
          "output_type": "stream",
          "name": "stderr",
          "text": [
            "\rEpochs:  86%|████████▌ | 86/100 [04:15<00:46,  3.33s/it]"
          ]
        },
        {
          "output_type": "stream",
          "name": "stdout",
          "text": [
            "Epoch 86/100  Train Loss: 0.3859, Acc: 100.0000%  \n"
          ]
        },
        {
          "output_type": "stream",
          "name": "stderr",
          "text": [
            "\rEpochs:  87%|████████▋ | 87/100 [04:19<00:42,  3.29s/it]"
          ]
        },
        {
          "output_type": "stream",
          "name": "stdout",
          "text": [
            "Epoch 87/100  Train Loss: 0.3643, Acc: 100.0000%  \n"
          ]
        },
        {
          "output_type": "stream",
          "name": "stderr",
          "text": [
            "\rEpochs:  88%|████████▊ | 88/100 [04:22<00:39,  3.33s/it]"
          ]
        },
        {
          "output_type": "stream",
          "name": "stdout",
          "text": [
            "Epoch 88/100  Train Loss: 0.3438, Acc: 100.0000%  \n"
          ]
        },
        {
          "output_type": "stream",
          "name": "stderr",
          "text": [
            "\rEpochs:  89%|████████▉ | 89/100 [04:26<00:38,  3.52s/it]"
          ]
        },
        {
          "output_type": "stream",
          "name": "stdout",
          "text": [
            "Epoch 89/100  Train Loss: 0.3254, Acc: 100.0000%  \n"
          ]
        },
        {
          "output_type": "stream",
          "name": "stderr",
          "text": [
            "\rEpochs:  90%|█████████ | 90/100 [04:29<00:34,  3.44s/it]"
          ]
        },
        {
          "output_type": "stream",
          "name": "stdout",
          "text": [
            "Epoch 90/100  Train Loss: 0.3064, Acc: 100.0000%  \n"
          ]
        },
        {
          "output_type": "stream",
          "name": "stderr",
          "text": [
            "\rEpochs:  91%|█████████ | 91/100 [04:32<00:30,  3.35s/it]"
          ]
        },
        {
          "output_type": "stream",
          "name": "stdout",
          "text": [
            "Epoch 91/100  Train Loss: 0.2907, Acc: 100.0000%  \n"
          ]
        },
        {
          "output_type": "stream",
          "name": "stderr",
          "text": [
            "\rEpochs:  92%|█████████▏| 92/100 [04:36<00:27,  3.43s/it]"
          ]
        },
        {
          "output_type": "stream",
          "name": "stdout",
          "text": [
            "Epoch 92/100  Train Loss: 0.2746, Acc: 100.0000%  \n"
          ]
        },
        {
          "output_type": "stream",
          "name": "stderr",
          "text": [
            "\rEpochs:  93%|█████████▎| 93/100 [04:40<00:25,  3.68s/it]"
          ]
        },
        {
          "output_type": "stream",
          "name": "stdout",
          "text": [
            "Epoch 93/100  Train Loss: 0.2598, Acc: 100.0000%  \n"
          ]
        },
        {
          "output_type": "stream",
          "name": "stderr",
          "text": [
            "\rEpochs:  94%|█████████▍| 94/100 [04:44<00:22,  3.74s/it]"
          ]
        },
        {
          "output_type": "stream",
          "name": "stdout",
          "text": [
            "Epoch 94/100  Train Loss: 0.2473, Acc: 100.0000%  \n"
          ]
        },
        {
          "output_type": "stream",
          "name": "stderr",
          "text": [
            "\rEpochs:  95%|█████████▌| 95/100 [04:48<00:19,  3.89s/it]"
          ]
        },
        {
          "output_type": "stream",
          "name": "stdout",
          "text": [
            "Epoch 95/100  Train Loss: 0.2339, Acc: 100.0000%  \n"
          ]
        },
        {
          "output_type": "stream",
          "name": "stderr",
          "text": [
            "\rEpochs:  96%|█████████▌| 96/100 [04:54<00:17,  4.46s/it]"
          ]
        },
        {
          "output_type": "stream",
          "name": "stdout",
          "text": [
            "Epoch 96/100  Train Loss: 0.2226, Acc: 100.0000%  \n"
          ]
        },
        {
          "output_type": "stream",
          "name": "stderr",
          "text": [
            "\rEpochs:  97%|█████████▋| 97/100 [05:00<00:14,  4.73s/it]"
          ]
        },
        {
          "output_type": "stream",
          "name": "stdout",
          "text": [
            "Epoch 97/100  Train Loss: 0.2120, Acc: 100.0000%  \n"
          ]
        },
        {
          "output_type": "stream",
          "name": "stderr",
          "text": [
            "\rEpochs:  98%|█████████▊| 98/100 [05:05<00:10,  5.09s/it]"
          ]
        },
        {
          "output_type": "stream",
          "name": "stdout",
          "text": [
            "Epoch 98/100  Train Loss: 0.2025, Acc: 100.0000%  \n"
          ]
        },
        {
          "output_type": "stream",
          "name": "stderr",
          "text": [
            "\rEpochs:  99%|█████████▉| 99/100 [05:11<00:05,  5.35s/it]"
          ]
        },
        {
          "output_type": "stream",
          "name": "stdout",
          "text": [
            "Epoch 99/100  Train Loss: 0.1926, Acc: 100.0000%  \n"
          ]
        },
        {
          "output_type": "stream",
          "name": "stderr",
          "text": [
            "Epochs: 100%|██████████| 100/100 [05:17<00:00,  3.18s/it]"
          ]
        },
        {
          "output_type": "stream",
          "name": "stdout",
          "text": [
            "Epoch 100/100  Train Loss: 0.1832, Acc: 100.0000%  \n",
            "Test set accuracy: 99.0000%\n"
          ]
        },
        {
          "output_type": "stream",
          "name": "stderr",
          "text": [
            "\n"
          ]
        },
        {
          "output_type": "display_data",
          "data": {
            "text/plain": [
              "<Figure size 800x400 with 2 Axes>"
            ],
            "image/png": "[encoded data removed]"
          },
          "metadata": {}
        },
        {
          "output_type": "display_data",
          "data": {
            "text/plain": [
              "<Figure size 800x600 with 2 Axes>"
            ],
            "image/png": "[encoded data removed]"
          },
          "metadata": {}
        }
      ],
      "source": [
        "#------------Import Data---------------\n",
        "csv_path_cnt= ('Connectome.csv')\n",
        "cntset = pd.read_csv(csv_path_cnt)\n",
        "csv_path_ann= ('DoOR.csv')\n",
        "X_ann = pd.read_csv(csv_path_ann)\n",
        "\n",
        "ff=cntset[cntset[\"directionality\"]=='feedforward']\n",
        "otp=ff[(ff[\"pre_class\"]=='ORN') & (ff[\"post_class\"]=='ALPN')]\n",
        "ptk=ff[(ff['pre_class']=='ALPN') & (ff['post_class']=='KC')]\n",
        "\n",
        "#-----------ORN to ALPN mask: 'mask_otp'-----------------\n",
        "otp_unique = otp[['pre_root_id','post_root_id']]\n",
        "mask_otp_norm = pd.crosstab(\n",
        "    index=otp_unique['pre_root_id'],    # Row: ORN ID\n",
        "    columns=otp_unique['post_root_id']  # Column: ALPN ID\n",
        "    , values=otp['syn_count']           # syn count\n",
        "    , aggfunc='sum'\n",
        "    ).fillna(0)                         #NaN = 0\n",
        "\n",
        "mask_otp = torch.from_numpy(mask_otp_norm.T.values).float().to(device)  # (615, 2278)\n",
        "\n",
        "#------------ALPN to KC mask: 'mask_ptk'-----------------\n",
        "alpn_ids=mask_otp_norm.columns\n",
        "\n",
        "ptk_unique=ptk[['pre_root_id', 'post_root_id']]\n",
        "mask_ptk_norm = (\n",
        "    pd.crosstab(\n",
        "        index=ptk_unique['pre_root_id'],    # Row: ALPN ID\n",
        "        columns=ptk_unique['post_root_id'], # Column: KC ID\n",
        "        values=ptk['syn_count'],\n",
        "        aggfunc='sum'\n",
        "    )\n",
        "    .reindex(index=alpn_ids,   # Make ALPN ID 615\n",
        "             fill_value=0)\n",
        "    .fillna(0)                 # NaN = 0\n",
        ")\n",
        "mask_ptk = torch.from_numpy(mask_ptk_norm.T.values).float().to(device)  # (4907,334)\n",
        "\n",
        "#-----------Normalization by He: 'mask_otp_n' & 'mask_ptk_n'------\n",
        "def synapse_he_init(msk):\n",
        "\n",
        "    syn_np = msk.cpu().numpy() if hasattr(msk, 'cpu') else msk\n",
        "    fan_in = syn_np.shape[1]\n",
        "    device = msk.device if hasattr(msk, 'device') else torch.device('cpu')\n",
        "\n",
        "    S = torch.from_numpy(syn_np).float().to(device)\n",
        "\n",
        "    sign = torch.sign(S)\n",
        "    mag  = torch.abs(S)\n",
        "\n",
        "    # positive/negative each\n",
        "    e_mask = sign > 0\n",
        "    i_mask = sign < 0\n",
        "    if e_mask.any():\n",
        "        block = mag[e_mask]\n",
        "        mag[e_mask] = (block - block.mean()) / (block.std(unbiased=False) + 1e-6)\n",
        "    if i_mask.any():\n",
        "        block = mag[i_mask]\n",
        "        mag[i_mask] = (block - block.mean()) / (block.std(unbiased=False) + 1e-6)\n",
        "\n",
        "    # 5) He Initialization\n",
        "    sigma_target = math.sqrt(2.0 / fan_in)\n",
        "\n",
        "    W0 = sign * mag * sigma_target\n",
        "    return W0\n",
        "\n",
        "mask_otp_n = synapse_he_init(mask_otp).to(device)  # (615,2278)\n",
        "mask_ptk_n = synapse_he_init(mask_ptk).to(device)  # (4907,615)\n",
        "\n",
        "#-----------------------MaskedLinear()----------------------------\n",
        "class MaskedLinear(nn.Module):\n",
        "    def __init__(self, in_features, out_features, weight):\n",
        "        super().__init__()\n",
        "        self.weight = nn.Parameter(weight)\n",
        "        self.bias   = nn.Parameter(torch.zeros(out_features))\n",
        "\n",
        "        self.register_buffer('mask', torch.sign(weight).float())\n",
        "\n",
        "    def forward(self, x):\n",
        "\n",
        "        w = torch.abs(self.weight) * self.mask\n",
        "        # Use functional linear transformation\n",
        "        return torch.nn.functional.linear(x, w, self.bias)\n",
        "\n",
        "#---------------------Odor Classifier()---------------------------\n",
        "class Odor_classifier(nn.Module):\n",
        "  def __init__(self,input_dim,output_dim, mask1, mask2):\n",
        "    super().__init__()\n",
        "    self.net=nn.Sequential(\n",
        "        MaskedLinear(input_dim,615, mask1),\n",
        "        nn.ReLU(),\n",
        "        MaskedLinear(615,4907, mask2),\n",
        "        nn.ReLU(),\n",
        "        nn.Linear(4907,output_dim)\n",
        "    )\n",
        "  def forward(self, x):\n",
        "    return self.net(x)\n",
        "\n",
        "model = Odor_classifier(input_dim=2278, output_dim=250, mask1=mask_otp_n, mask2=mask_ptk_n).to(device)\n",
        "\n",
        "criterion = nn.CrossEntropyLoss()\n",
        "optimizer = optim.Adam(model.parameters(), lr=1e-4, weight_decay=1e-4)\n",
        "\n",
        "#-----------------------Train & Test----------------------\n",
        "cls_labels = []\n",
        "for i in range(250):\n",
        "  cls_labels.append(f'Odor_({i+1})')\n",
        "\n",
        "le=LabelEncoder()\n",
        "y_int=le.fit_transform(cls_labels)\n",
        "y = y_int\n",
        "y_out=torch.tensor(y,dtype=torch.long)\n",
        "#prototype Random input\n",
        "xp = torch.rand(250,53,dtype=torch.float32)\n",
        "\n",
        "x_train=[]\n",
        "y_train=[]\n",
        "x_test=[]\n",
        "y_test=[]\n",
        "\n",
        "idx=torch.randint(0,250,(1000,))\n",
        "\n",
        "for n in idx:\n",
        "  noise=torch.normal(mean=0,std=0.2,size=(43,53))\n",
        "\n",
        "  xi=xp[n]\n",
        "  xn  = torch.zeros(43,53, dtype=torch.float32)\n",
        "  xn=(xi+noise).flatten()\n",
        "\n",
        "  xn=xn[1:]\n",
        "\n",
        "  x_train.append(xn)\n",
        "  y_train.append(y_out[n]) # Append the individual element y_out[n]\n",
        "\n",
        "idx=torch.randint(0,250,(200,))\n",
        "\n",
        "for k in idx:\n",
        "  noise=torch.normal(mean=0,std=0.2,size=(43,53))\n",
        "\n",
        "  xi=xp[k]\n",
        "  xn  = torch.zeros(43,53, dtype=torch.float32)\n",
        "  xn=(xi+noise).flatten()\n",
        "\n",
        "  xn=xn[1:]\n",
        "\n",
        "  x_test.append(xn)\n",
        "  y_test.append(y_out[k]) # Append the individual element y_out[k]\n",
        "\n",
        "x_train = torch.stack(x_train).to(dtype=torch.float32)\n",
        "y_train = torch.stack(y_train).to(dtype=torch.long)\n",
        "x_test = torch.stack(x_test).to(dtype=torch.float32)\n",
        "y_test = torch.stack(y_test).to(dtype=torch.long)\n",
        "\n",
        "train_ds = TensorDataset(x_train, y_train)\n",
        "test_ds  = TensorDataset(x_test,  y_test)\n",
        "\n",
        "train_loader = DataLoader(train_ds, batch_size=64, shuffle=True)\n",
        "test_loader  = DataLoader(test_ds,  batch_size=64, shuffle=False)\n",
        "\n",
        "#---------------Train loop----------------\n",
        "\n",
        "num_epochs = 100\n",
        "train_losses, train_accs = [], []\n",
        "\n",
        "for epoch in trange(num_epochs, desc=\"Epochs\"):\n",
        "    model.train()\n",
        "    tr_loss = tr_acc = 0.0\n",
        "    y_true = []\n",
        "    y_pred = []\n",
        "    for xb, yb in train_loader:\n",
        "        xb, yb = xb.to(device), yb.to(device)\n",
        "        optimizer.zero_grad()\n",
        "        logits = model(xb)\n",
        "        loss   = criterion(logits, yb)\n",
        "        loss.backward()\n",
        "        optimizer.step()\n",
        "\n",
        "        tr_loss += loss.item() * xb.size(0)\n",
        "        tr_acc  += (logits.argmax(dim=1) == yb).float().sum().item()\n",
        "\n",
        "        # for confusion matrix\n",
        "        y_true.append(yb.cpu())\n",
        "        y_pred.append(logits.argmax(dim=1).cpu())\n",
        "\n",
        "    tr_loss /= len(train_loader.dataset)\n",
        "    tr_acc  /= len(train_loader.dataset)\n",
        "    train_losses.append(tr_loss)\n",
        "    train_accs.append(tr_acc)\n",
        "\n",
        "    print(f\"Epoch {epoch+1:02d}/{num_epochs}  \"\n",
        "          f\"Train Loss: {tr_loss:.4f}, Acc: {tr_acc:.4%}  \")\n",
        "\n",
        "\n",
        "#------------Test Accuracy---------\n",
        "model.eval()\n",
        "te_correct = 0\n",
        "total_samples = 0\n",
        "with torch.no_grad():\n",
        "    for xb, yb in test_loader:\n",
        "        xb, yb = xb.to(device), yb.to(device)\n",
        "        logits = model(xb)\n",
        "        te_correct += (logits.argmax(dim=1) == yb).float().sum().item()\n",
        "        total_samples += xb.size(0)\n",
        "test_acc = te_correct / total_samples\n",
        "print(f\"Test set accuracy: {test_acc:.4%}\")\n",
        "\n",
        "\n",
        "#---------Train result plot---------\n",
        "fig, ax1 = plt.subplots(figsize=(8, 4))\n",
        "# Loss: 왼쪽 y축\n",
        "ax1.plot(train_losses, color='tab:blue', label='Train Loss')\n",
        "ax1.set_xlabel('Epoch')\n",
        "ax1.set_ylabel('Loss', color='tab:blue')\n",
        "ax1.tick_params(axis='y', labelcolor='tab:blue')\n",
        "# Accuracy: 오른쪽 y축\n",
        "ax2 = ax1.twinx()\n",
        "ax2.plot(train_accs, color='tab:orange', label='Train Acc')\n",
        "ax2.set_ylabel('Accuracy', color='tab:orange')\n",
        "ax2.tick_params(axis='y', labelcolor='tab:orange')\n",
        "\n",
        "lines_1, labels_1 = ax1.get_legend_handles_labels()\n",
        "lines_2, labels_2 = ax2.get_legend_handles_labels()\n",
        "ax1.legend(lines_1 + lines_2, labels_1 + labels_2, loc='center right')\n",
        "\n",
        "plt.title('Train Loss & Accuracy')\n",
        "plt.show()\n",
        "\n",
        "\n",
        "# ---------Confusion_matrix---------\n",
        "y_true_all = torch.cat(y_true).numpy()\n",
        "y_pred_all = torch.cat(y_pred).numpy()\n",
        "\n",
        "cm = confusion_matrix(y_true_all, y_pred_all)\n",
        "\n",
        "plt.figure(figsize=(8,6))\n",
        "sns.heatmap(cm, annot=False, fmt='d', cmap='Blues')\n",
        "plt.xlabel(\"Predicted label\")\n",
        "plt.ylabel(\"True label\")\n",
        "plt.title(\"Confusion Matrix\")\n",
        "plt.show()"
      ]
    }
  ]
}