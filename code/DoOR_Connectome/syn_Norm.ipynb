{
  "nbformat": 4,
  "nbformat_minor": 0,
  "metadata": {
    "colab": {
      "provenance": [],
      "gpuType": "T4"
    },
    "kernelspec": {
      "name": "python3",
      "display_name": "Python 3"
    },
    "language_info": {
      "name": "python"
    },
    "accelerator": "GPU"
  },
  "cells": [
    {
      "cell_type": "code",
      "execution_count": 10,
      "metadata": {
        "colab": {
          "base_uri": "https://localhost:8080/",
          "height": 1000
        },
        "id": "bBCw92xxe2op",
        "outputId": "223aa113-47bf-4844-91d7-12dc392fe298"
      },
      "outputs": [
        {
          "output_type": "stream",
          "name": "stderr",
          "text": [
            "Epochs:   2%|▏         | 2/100 [00:00<00:09, 10.85it/s]"
          ]
        },
        {
          "output_type": "stream",
          "name": "stdout",
          "text": [
            "Epoch 01/100  Train Loss: 5.5299, Acc: 0.8000%  \n",
            "Epoch 02/100  Train Loss: 5.0585, Acc: 2.7000%  \n",
            "Epoch 03/100  Train Loss: 4.7875, Acc: 10.2000%  \n"
          ]
        },
        {
          "output_type": "stream",
          "name": "stderr",
          "text": [
            "Epochs:   6%|▌         | 6/100 [00:00<00:08, 11.56it/s]"
          ]
        },
        {
          "output_type": "stream",
          "name": "stdout",
          "text": [
            "Epoch 04/100  Train Loss: 4.5316, Acc: 21.3000%  \n",
            "Epoch 05/100  Train Loss: 4.3021, Acc: 27.4000%  \n",
            "Epoch 06/100  Train Loss: 4.0739, Acc: 32.1000%  \n"
          ]
        },
        {
          "output_type": "stream",
          "name": "stderr",
          "text": [
            "\rEpochs:   8%|▊         | 8/100 [00:00<00:07, 11.66it/s]"
          ]
        },
        {
          "output_type": "stream",
          "name": "stdout",
          "text": [
            "Epoch 07/100  Train Loss: 3.8554, Acc: 38.6000%  \n",
            "Epoch 08/100  Train Loss: 3.6376, Acc: 48.3000%  \n",
            "Epoch 09/100  Train Loss: 3.4327, Acc: 53.7000%  \n"
          ]
        },
        {
          "output_type": "stream",
          "name": "stderr",
          "text": [
            "Epochs:  12%|█▏        | 12/100 [00:01<00:07, 11.98it/s]"
          ]
        },
        {
          "output_type": "stream",
          "name": "stdout",
          "text": [
            "Epoch 10/100  Train Loss: 3.2371, Acc: 60.7000%  \n",
            "Epoch 11/100  Train Loss: 3.0455, Acc: 66.1000%  \n",
            "Epoch 12/100  Train Loss: 2.8599, Acc: 69.0000%  \n"
          ]
        },
        {
          "output_type": "stream",
          "name": "stderr",
          "text": [
            "\rEpochs:  14%|█▍        | 14/100 [00:01<00:07, 12.01it/s]"
          ]
        },
        {
          "output_type": "stream",
          "name": "stdout",
          "text": [
            "Epoch 13/100  Train Loss: 2.6801, Acc: 73.9000%  \n",
            "Epoch 14/100  Train Loss: 2.5122, Acc: 77.8000%  \n",
            "Epoch 15/100  Train Loss: 2.3532, Acc: 81.0000%  \n"
          ]
        },
        {
          "output_type": "stream",
          "name": "stderr",
          "text": [
            "Epochs:  18%|█▊        | 18/100 [00:01<00:06, 12.05it/s]"
          ]
        },
        {
          "output_type": "stream",
          "name": "stdout",
          "text": [
            "Epoch 16/100  Train Loss: 2.2001, Acc: 82.7000%  \n",
            "Epoch 17/100  Train Loss: 2.0527, Acc: 85.2000%  \n",
            "Epoch 18/100  Train Loss: 1.9210, Acc: 86.7000%  \n"
          ]
        },
        {
          "output_type": "stream",
          "name": "stderr",
          "text": [
            "\rEpochs:  20%|██        | 20/100 [00:01<00:06, 11.57it/s]"
          ]
        },
        {
          "output_type": "stream",
          "name": "stdout",
          "text": [
            "Epoch 19/100  Train Loss: 1.7898, Acc: 88.4000%  \n",
            "Epoch 20/100  Train Loss: 1.6734, Acc: 89.8000%  \n",
            "Epoch 21/100  Train Loss: 1.5605, Acc: 90.4000%  \n"
          ]
        },
        {
          "output_type": "stream",
          "name": "stderr",
          "text": [
            "Epochs:  24%|██▍       | 24/100 [00:02<00:06, 11.05it/s]"
          ]
        },
        {
          "output_type": "stream",
          "name": "stdout",
          "text": [
            "Epoch 22/100  Train Loss: 1.4580, Acc: 91.7000%  \n",
            "Epoch 23/100  Train Loss: 1.3566, Acc: 93.0000%  \n",
            "Epoch 24/100  Train Loss: 1.2658, Acc: 93.4000%  \n"
          ]
        },
        {
          "output_type": "stream",
          "name": "stderr",
          "text": [
            "\rEpochs:  26%|██▌       | 26/100 [00:02<00:06, 11.06it/s]"
          ]
        },
        {
          "output_type": "stream",
          "name": "stdout",
          "text": [
            "Epoch 25/100  Train Loss: 1.1792, Acc: 95.2000%  \n",
            "Epoch 26/100  Train Loss: 1.0995, Acc: 95.9000%  \n",
            "Epoch 27/100  Train Loss: 1.0246, Acc: 96.2000%  \n"
          ]
        },
        {
          "output_type": "stream",
          "name": "stderr",
          "text": [
            "Epochs:  30%|███       | 30/100 [00:02<00:06, 10.80it/s]"
          ]
        },
        {
          "output_type": "stream",
          "name": "stdout",
          "text": [
            "Epoch 28/100  Train Loss: 0.9625, Acc: 96.6000%  \n",
            "Epoch 29/100  Train Loss: 0.8964, Acc: 96.5000%  \n",
            "Epoch 30/100  Train Loss: 0.8347, Acc: 97.6000%  \n"
          ]
        },
        {
          "output_type": "stream",
          "name": "stderr",
          "text": [
            "\rEpochs:  32%|███▏      | 32/100 [00:02<00:06, 10.93it/s]"
          ]
        },
        {
          "output_type": "stream",
          "name": "stdout",
          "text": [
            "Epoch 31/100  Train Loss: 0.7816, Acc: 97.6000%  \n",
            "Epoch 32/100  Train Loss: 0.7361, Acc: 98.2000%  \n",
            "Epoch 33/100  Train Loss: 0.6864, Acc: 97.9000%  \n"
          ]
        },
        {
          "output_type": "stream",
          "name": "stderr",
          "text": [
            "Epochs:  36%|███▌      | 36/100 [00:03<00:05, 10.97it/s]"
          ]
        },
        {
          "output_type": "stream",
          "name": "stdout",
          "text": [
            "Epoch 34/100  Train Loss: 0.6407, Acc: 98.6000%  \n",
            "Epoch 35/100  Train Loss: 0.6041, Acc: 98.6000%  \n",
            "Epoch 36/100  Train Loss: 0.5663, Acc: 98.9000%  \n"
          ]
        },
        {
          "output_type": "stream",
          "name": "stderr",
          "text": [
            "\rEpochs:  38%|███▊      | 38/100 [00:03<00:05, 10.98it/s]"
          ]
        },
        {
          "output_type": "stream",
          "name": "stdout",
          "text": [
            "Epoch 37/100  Train Loss: 0.5343, Acc: 99.3000%  \n",
            "Epoch 38/100  Train Loss: 0.5032, Acc: 99.1000%  \n",
            "Epoch 39/100  Train Loss: 0.4728, Acc: 99.4000%  \n"
          ]
        },
        {
          "output_type": "stream",
          "name": "stderr",
          "text": [
            "Epochs:  42%|████▏     | 42/100 [00:03<00:05, 11.04it/s]"
          ]
        },
        {
          "output_type": "stream",
          "name": "stdout",
          "text": [
            "Epoch 40/100  Train Loss: 0.4442, Acc: 99.2000%  \n",
            "Epoch 41/100  Train Loss: 0.4194, Acc: 99.3000%  \n",
            "Epoch 42/100  Train Loss: 0.3988, Acc: 99.5000%  \n"
          ]
        },
        {
          "output_type": "stream",
          "name": "stderr",
          "text": [
            "\rEpochs:  44%|████▍     | 44/100 [00:03<00:05, 10.98it/s]"
          ]
        },
        {
          "output_type": "stream",
          "name": "stdout",
          "text": [
            "Epoch 43/100  Train Loss: 0.3752, Acc: 99.4000%  \n",
            "Epoch 44/100  Train Loss: 0.3547, Acc: 99.5000%  \n",
            "Epoch 45/100  Train Loss: 0.3344, Acc: 99.7000%  \n"
          ]
        },
        {
          "output_type": "stream",
          "name": "stderr",
          "text": [
            "Epochs:  48%|████▊     | 48/100 [00:04<00:04, 10.86it/s]"
          ]
        },
        {
          "output_type": "stream",
          "name": "stdout",
          "text": [
            "Epoch 46/100  Train Loss: 0.3165, Acc: 99.8000%  \n",
            "Epoch 47/100  Train Loss: 0.3017, Acc: 99.6000%  \n",
            "Epoch 48/100  Train Loss: 0.2868, Acc: 99.7000%  \n"
          ]
        },
        {
          "output_type": "stream",
          "name": "stderr",
          "text": [
            "\rEpochs:  50%|█████     | 50/100 [00:04<00:04, 10.68it/s]"
          ]
        },
        {
          "output_type": "stream",
          "name": "stdout",
          "text": [
            "Epoch 49/100  Train Loss: 0.2733, Acc: 99.7000%  \n",
            "Epoch 50/100  Train Loss: 0.2587, Acc: 99.7000%  \n",
            "Epoch 51/100  Train Loss: 0.2479, Acc: 99.8000%  \n"
          ]
        },
        {
          "output_type": "stream",
          "name": "stderr",
          "text": [
            "Epochs:  54%|█████▍    | 54/100 [00:04<00:04, 10.57it/s]"
          ]
        },
        {
          "output_type": "stream",
          "name": "stdout",
          "text": [
            "Epoch 52/100  Train Loss: 0.2350, Acc: 99.7000%  \n",
            "Epoch 53/100  Train Loss: 0.2243, Acc: 99.7000%  \n",
            "Epoch 54/100  Train Loss: 0.2142, Acc: 99.7000%  \n"
          ]
        },
        {
          "output_type": "stream",
          "name": "stderr",
          "text": [
            "\rEpochs:  56%|█████▌    | 56/100 [00:05<00:04, 10.94it/s]"
          ]
        },
        {
          "output_type": "stream",
          "name": "stdout",
          "text": [
            "Epoch 55/100  Train Loss: 0.2051, Acc: 99.8000%  \n",
            "Epoch 56/100  Train Loss: 0.1957, Acc: 99.8000%  \n",
            "Epoch 57/100  Train Loss: 0.1870, Acc: 99.9000%  \n"
          ]
        },
        {
          "output_type": "stream",
          "name": "stderr",
          "text": [
            "Epochs:  60%|██████    | 60/100 [00:05<00:03, 11.49it/s]"
          ]
        },
        {
          "output_type": "stream",
          "name": "stdout",
          "text": [
            "Epoch 58/100  Train Loss: 0.1787, Acc: 99.8000%  \n",
            "Epoch 59/100  Train Loss: 0.1711, Acc: 99.9000%  \n",
            "Epoch 60/100  Train Loss: 0.1637, Acc: 99.9000%  \n"
          ]
        },
        {
          "output_type": "stream",
          "name": "stderr",
          "text": [
            "\rEpochs:  62%|██████▏   | 62/100 [00:05<00:03, 11.62it/s]"
          ]
        },
        {
          "output_type": "stream",
          "name": "stdout",
          "text": [
            "Epoch 61/100  Train Loss: 0.1577, Acc: 99.9000%  \n",
            "Epoch 62/100  Train Loss: 0.1502, Acc: 99.9000%  \n",
            "Epoch 63/100  Train Loss: 0.1452, Acc: 99.9000%  \n"
          ]
        },
        {
          "output_type": "stream",
          "name": "stderr",
          "text": [
            "Epochs:  66%|██████▌   | 66/100 [00:05<00:02, 11.72it/s]"
          ]
        },
        {
          "output_type": "stream",
          "name": "stdout",
          "text": [
            "Epoch 64/100  Train Loss: 0.1401, Acc: 99.8000%  \n",
            "Epoch 65/100  Train Loss: 0.1345, Acc: 99.9000%  \n",
            "Epoch 66/100  Train Loss: 0.1290, Acc: 100.0000%  \n"
          ]
        },
        {
          "output_type": "stream",
          "name": "stderr",
          "text": [
            "\rEpochs:  68%|██████▊   | 68/100 [00:06<00:02, 11.83it/s]"
          ]
        },
        {
          "output_type": "stream",
          "name": "stdout",
          "text": [
            "Epoch 67/100  Train Loss: 0.1245, Acc: 99.8000%  \n",
            "Epoch 68/100  Train Loss: 0.1195, Acc: 99.9000%  \n",
            "Epoch 69/100  Train Loss: 0.1162, Acc: 99.9000%  \n"
          ]
        },
        {
          "output_type": "stream",
          "name": "stderr",
          "text": [
            "Epochs:  72%|███████▏  | 72/100 [00:06<00:02, 11.92it/s]"
          ]
        },
        {
          "output_type": "stream",
          "name": "stdout",
          "text": [
            "Epoch 70/100  Train Loss: 0.1104, Acc: 100.0000%  \n",
            "Epoch 71/100  Train Loss: 0.1071, Acc: 100.0000%  \n",
            "Epoch 72/100  Train Loss: 0.1028, Acc: 99.9000%  \n"
          ]
        },
        {
          "output_type": "stream",
          "name": "stderr",
          "text": [
            "\rEpochs:  74%|███████▍  | 74/100 [00:06<00:02, 11.92it/s]"
          ]
        },
        {
          "output_type": "stream",
          "name": "stdout",
          "text": [
            "Epoch 73/100  Train Loss: 0.0999, Acc: 100.0000%  \n",
            "Epoch 74/100  Train Loss: 0.0967, Acc: 100.0000%  \n",
            "Epoch 75/100  Train Loss: 0.0928, Acc: 100.0000%  \n"
          ]
        },
        {
          "output_type": "stream",
          "name": "stderr",
          "text": [
            "Epochs:  78%|███████▊  | 78/100 [00:06<00:01, 11.85it/s]"
          ]
        },
        {
          "output_type": "stream",
          "name": "stdout",
          "text": [
            "Epoch 76/100  Train Loss: 0.0900, Acc: 100.0000%  \n",
            "Epoch 77/100  Train Loss: 0.0874, Acc: 100.0000%  \n",
            "Epoch 78/100  Train Loss: 0.0850, Acc: 100.0000%  \n"
          ]
        },
        {
          "output_type": "stream",
          "name": "stderr",
          "text": [
            "\rEpochs:  80%|████████  | 80/100 [00:07<00:01, 11.93it/s]"
          ]
        },
        {
          "output_type": "stream",
          "name": "stdout",
          "text": [
            "Epoch 79/100  Train Loss: 0.0832, Acc: 100.0000%  \n",
            "Epoch 80/100  Train Loss: 0.0795, Acc: 100.0000%  \n",
            "Epoch 81/100  Train Loss: 0.0769, Acc: 100.0000%  \n"
          ]
        },
        {
          "output_type": "stream",
          "name": "stderr",
          "text": [
            "Epochs:  84%|████████▍ | 84/100 [00:07<00:01, 12.05it/s]"
          ]
        },
        {
          "output_type": "stream",
          "name": "stdout",
          "text": [
            "Epoch 82/100  Train Loss: 0.0744, Acc: 100.0000%  \n",
            "Epoch 83/100  Train Loss: 0.0725, Acc: 100.0000%  \n",
            "Epoch 84/100  Train Loss: 0.0707, Acc: 100.0000%  \n"
          ]
        },
        {
          "output_type": "stream",
          "name": "stderr",
          "text": [
            "\rEpochs:  86%|████████▌ | 86/100 [00:07<00:01, 12.03it/s]"
          ]
        },
        {
          "output_type": "stream",
          "name": "stdout",
          "text": [
            "Epoch 85/100  Train Loss: 0.0680, Acc: 100.0000%  \n",
            "Epoch 86/100  Train Loss: 0.0663, Acc: 100.0000%  \n",
            "Epoch 87/100  Train Loss: 0.0642, Acc: 100.0000%  \n"
          ]
        },
        {
          "output_type": "stream",
          "name": "stderr",
          "text": [
            "Epochs:  90%|█████████ | 90/100 [00:07<00:00, 11.97it/s]"
          ]
        },
        {
          "output_type": "stream",
          "name": "stdout",
          "text": [
            "Epoch 88/100  Train Loss: 0.0623, Acc: 100.0000%  \n",
            "Epoch 89/100  Train Loss: 0.0608, Acc: 100.0000%  \n",
            "Epoch 90/100  Train Loss: 0.0593, Acc: 100.0000%  \n"
          ]
        },
        {
          "output_type": "stream",
          "name": "stderr",
          "text": [
            "\rEpochs:  92%|█████████▏| 92/100 [00:08<00:00, 11.80it/s]"
          ]
        },
        {
          "output_type": "stream",
          "name": "stdout",
          "text": [
            "Epoch 91/100  Train Loss: 0.0578, Acc: 100.0000%  \n",
            "Epoch 92/100  Train Loss: 0.0558, Acc: 100.0000%  \n",
            "Epoch 93/100  Train Loss: 0.0544, Acc: 100.0000%  \n"
          ]
        },
        {
          "output_type": "stream",
          "name": "stderr",
          "text": [
            "Epochs:  96%|█████████▌| 96/100 [00:08<00:00, 11.90it/s]"
          ]
        },
        {
          "output_type": "stream",
          "name": "stdout",
          "text": [
            "Epoch 94/100  Train Loss: 0.0534, Acc: 100.0000%  \n",
            "Epoch 95/100  Train Loss: 0.0521, Acc: 100.0000%  \n",
            "Epoch 96/100  Train Loss: 0.0508, Acc: 100.0000%  \n"
          ]
        },
        {
          "output_type": "stream",
          "name": "stderr",
          "text": [
            "\rEpochs:  98%|█████████▊| 98/100 [00:08<00:00, 11.87it/s]"
          ]
        },
        {
          "output_type": "stream",
          "name": "stdout",
          "text": [
            "Epoch 97/100  Train Loss: 0.0496, Acc: 100.0000%  \n",
            "Epoch 98/100  Train Loss: 0.0480, Acc: 100.0000%  \n",
            "Epoch 99/100  Train Loss: 0.0468, Acc: 100.0000%  \n"
          ]
        },
        {
          "output_type": "stream",
          "name": "stderr",
          "text": [
            "Epochs: 100%|██████████| 100/100 [00:08<00:00, 11.48it/s]\n"
          ]
        },
        {
          "output_type": "stream",
          "name": "stdout",
          "text": [
            "Epoch 100/100  Train Loss: 0.0458, Acc: 100.0000%  \n",
            "Test set accuracy: 89.5000%\n"
          ]
        },
        {
          "output_type": "display_data",
          "data": {
            "text/plain": [
              "<Figure size 800x400 with 2 Axes>"
            ],
            "image/png": "[encoded data removed]"
          },
          "metadata": {}
        },
        {
          "output_type": "display_data",
          "data": {
            "text/plain": [
              "<Figure size 800x600 with 2 Axes>"
            ],
            "image/png": "[encoded data removed]"
          },
          "metadata": {}
        }
      ],
      "source": [
        "#------------Import Data---------------\n",
        "csv_path_cnt= ('Connectome.csv')\n",
        "cntset = pd.read_csv(csv_path_cnt)\n",
        "csv_path_ann= ('DoOR.csv')\n",
        "X_ann = pd.read_csv(csv_path_ann)\n",
        "\n",
        "ff=cntset[cntset[\"directionality\"]=='feedforward']\n",
        "otp=ff[(ff[\"pre_class\"]=='ORN') & (ff[\"post_class\"]=='ALPN')]\n",
        "ptk=ff[(ff['pre_class']=='ALPN') & (ff['post_class']=='KC')]\n",
        "\n",
        "#-----------ORN to ALPN mask: 'mask_otp'-----------------\n",
        "otp_unique = otp[['pre_root_id','post_root_id']]\n",
        "mask_otp_norm = pd.crosstab(\n",
        "    index=otp_unique['pre_root_id'],    # Row: ORN ID\n",
        "    columns=otp_unique['post_root_id']  # Column: ALPN ID\n",
        "    , values=otp['syn_count']           # syn count\n",
        "    , aggfunc='sum'\n",
        "    ).fillna(0)                         #NaN = 0\n",
        "\n",
        "mask_otp = torch.from_numpy(mask_otp_norm.T.values).float().to(device)  # (615, 2278)\n",
        "\n",
        "#------------ALPN to KC mask: 'mask_ptk'-----------------\n",
        "alpn_ids=mask_otp_norm.columns\n",
        "\n",
        "ptk_unique=ptk[['pre_root_id', 'post_root_id']]\n",
        "mask_ptk_norm = (\n",
        "    pd.crosstab(\n",
        "        index=ptk_unique['pre_root_id'],    # Row: ALPN ID\n",
        "        columns=ptk_unique['post_root_id'], # Column: KC ID\n",
        "        values=ptk['syn_count'],\n",
        "        aggfunc='sum'\n",
        "    )\n",
        "    .reindex(index=alpn_ids,   # Make ALPN ID 615\n",
        "             fill_value=0)\n",
        "    .fillna(0)                 # NaN = 0\n",
        ")\n",
        "mask_ptk = torch.from_numpy(mask_ptk_norm.T.values).float().to(device)  # (4907,334)\n",
        "\n",
        "\n",
        "#-----------Neormalization by He: 'mask_otp_n' & 'mask_ptk_n'------\n",
        "def normalize_by_max_(x):\n",
        "    y=x/x.max()\n",
        "    return y\n",
        "mask_otp_n=normalize_by_max_(mask_otp)\n",
        "mask_ptk_n=normalize_by_max_(mask_ptk)\n",
        "\n",
        "#-----------------------MaskedLinear()----------------------------\n",
        "class MaskedLinear(nn.Module):\n",
        "    def __init__(self, in_features, out_features, weight):\n",
        "        super().__init__()\n",
        "        self.weight = nn.Parameter(weight)\n",
        "        self.bias   = nn.Parameter(torch.zeros(out_features))\n",
        "\n",
        "        self.register_buffer('mask', torch.sign(weight).float())    # +1/-1/0 mask\n",
        "\n",
        "    def forward(self, x):\n",
        "        w = torch.abs(self.weight) * self.mask\n",
        "        # Use functional linear transformation\n",
        "        return torch.nn.functional.linear(x, w, self.bias)\n",
        "\n",
        "#---------------------Odor Classifier()---------------------------\n",
        "class Odor_classifier(nn.Module):\n",
        "  def __init__(self,input_dim,output_dim, mask1, mask2):\n",
        "    super().__init__()\n",
        "    self.net=nn.Sequential(\n",
        "        MaskedLinear(input_dim,615, mask1),\n",
        "        nn.ReLU(),\n",
        "        MaskedLinear(615,4907, mask2),\n",
        "        nn.ReLU(),\n",
        "        nn.Linear(4907,output_dim)\n",
        "    )\n",
        "  def forward(self, x):\n",
        "    return self.net(x)\n",
        "\n",
        "model = Odor_classifier(input_dim=2278, output_dim=250, mask1=mask_otp_n, mask2=mask_ptk_n).to(device)\n",
        "\n",
        "criterion = nn.CrossEntropyLoss()\n",
        "optimizer = optim.Adam(model.parameters(), lr=1e-4, weight_decay=1e-4)\n",
        "\n",
        "#-----------------------Train & Test----------------------\n",
        "cls_labels = []\n",
        "for i in range(250):\n",
        "  cls_labels.append(f'Odor_({i+1})')\n",
        "\n",
        "le=LabelEncoder()\n",
        "y_int=le.fit_transform(cls_labels)\n",
        "y = y_int\n",
        "y_out=torch.tensor(y,dtype=torch.long)\n",
        "\n",
        "x_train=[]\n",
        "y_train=[]\n",
        "x_test=[]\n",
        "y_test=[]\n",
        "\n",
        "idx=torch.randint(0,250,(1000,))\n",
        "\n",
        "for n in idx:\n",
        "  noise=torch.normal(mean=0,std=0.2,size=(2278,))\n",
        "\n",
        "  # Exclude the first column 'Unnamed_0' and convert to numeric, coercing errors\n",
        "  xi = pd.to_numeric(X_ann.iloc[n.item(), 1:], errors='coerce')\n",
        "  xn  = torch.zeros(2278, dtype=torch.float32)\n",
        "  # Fill potential NaN values with 0 before converting to tensor\n",
        "  xn = torch.tensor(xi.fillna(0).values, dtype=torch.float32) + noise # Convert pandas Series to tensor\n",
        "  x_train.append(xn)\n",
        "  y_train.append(y_out[n]) # Append the individual element y_out[n]\n",
        "\n",
        "idx=torch.randint(0,250,(200,))\n",
        "\n",
        "for k in idx:\n",
        "  noise=torch.normal(mean=0,std=0.2,size=(2278,))\n",
        "\n",
        "  # Exclude the first column 'Unnamed_0' and convert to numeric, coercing errors\n",
        "  xi = pd.to_numeric(X_ann.iloc[k.item(), 1:], errors='coerce')\n",
        "  xn  = torch.zeros(2278, dtype=torch.float32)\n",
        "  # Fill potential NaN values with 0 before converting to tensor\n",
        "  xn = torch.tensor(xi.fillna(0).values, dtype=torch.float32) + noise # Convert pandas Series to tensor\n",
        "  x_test.append(xn)\n",
        "  y_test.append(y_out[k]) # Append the individual element y_out[k]\n",
        "\n",
        "x_train = torch.stack(x_train).to(dtype=torch.float32)\n",
        "y_train = torch.stack(y_train).to(dtype=torch.long)\n",
        "x_test = torch.stack(x_test).to(dtype=torch.float32)\n",
        "y_test = torch.stack(y_test).to(dtype=torch.long)\n",
        "\n",
        "train_ds = TensorDataset(x_train, y_train)\n",
        "test_ds  = TensorDataset(x_test,  y_test)\n",
        "\n",
        "train_loader = DataLoader(train_ds, batch_size=64, shuffle=True)\n",
        "test_loader  = DataLoader(test_ds,  batch_size=64, shuffle=False)\n",
        "\n",
        "#---------------Train loop----------------\n",
        "\n",
        "num_epochs = 100\n",
        "train_losses, train_accs = [], []\n",
        "\n",
        "for epoch in trange(num_epochs, desc=\"Epochs\"):\n",
        "    model.train()\n",
        "    tr_loss = tr_acc = 0.0\n",
        "    y_true = []\n",
        "    y_pred = []\n",
        "    for xb, yb in train_loader:\n",
        "        xb, yb = xb.to(device), yb.to(device)\n",
        "        optimizer.zero_grad()\n",
        "        logits = model(xb)\n",
        "        loss   = criterion(logits, yb)\n",
        "        loss.backward()\n",
        "        optimizer.step()\n",
        "\n",
        "        tr_loss += loss.item() * xb.size(0)\n",
        "        tr_acc  += (logits.argmax(dim=1) == yb).float().sum().item()\n",
        "\n",
        "        # for confusion matrix\n",
        "        y_true.append(yb.cpu())\n",
        "        y_pred.append(logits.argmax(dim=1).cpu())\n",
        "\n",
        "    tr_loss /= len(train_loader.dataset)\n",
        "    tr_acc  /= len(train_loader.dataset)\n",
        "    train_losses.append(tr_loss)\n",
        "    train_accs.append(tr_acc)\n",
        "\n",
        "    print(f\"Epoch {epoch+1:02d}/{num_epochs}  \"\n",
        "          f\"Train Loss: {tr_loss:.4f}, Acc: {tr_acc:.4%}  \")\n",
        "\n",
        "\n",
        "#------------Test Accuracy---------\n",
        "model.eval()\n",
        "te_correct = 0\n",
        "total_samples = 0\n",
        "with torch.no_grad():\n",
        "    for xb, yb in test_loader:\n",
        "        xb, yb = xb.to(device), yb.to(device)\n",
        "        logits = model(xb)\n",
        "        te_correct += (logits.argmax(dim=1) == yb).float().sum().item()\n",
        "        total_samples += xb.size(0)\n",
        "test_acc = te_correct / total_samples\n",
        "print(f\"Test set accuracy: {test_acc:.4%}\")\n",
        "\n",
        "\n",
        "#---------Train result plot---------\n",
        "fig, ax1 = plt.subplots(figsize=(8, 4))\n",
        "# Loss: 왼쪽 y축\n",
        "ax1.plot(train_losses, color='tab:blue', label='Train Loss')\n",
        "ax1.set_xlabel('Epoch')\n",
        "ax1.set_ylabel('Loss', color='tab:blue')\n",
        "ax1.tick_params(axis='y', labelcolor='tab:blue')\n",
        "# Accuracy: 오른쪽 y축\n",
        "ax2 = ax1.twinx()\n",
        "ax2.plot(train_accs, color='tab:orange', label='Train Acc')\n",
        "ax2.set_ylabel('Accuracy', color='tab:orange')\n",
        "ax2.tick_params(axis='y', labelcolor='tab:orange')\n",
        "\n",
        "lines_1, labels_1 = ax1.get_legend_handles_labels()\n",
        "lines_2, labels_2 = ax2.get_legend_handles_labels()\n",
        "ax1.legend(lines_1 + lines_2, labels_1 + labels_2, loc='center right')\n",
        "\n",
        "plt.title('Train Loss & Accuracy')\n",
        "plt.show()\n",
        "\n",
        "\n",
        "# ---------Confusion_matrix---------\n",
        "y_true_all = torch.cat(y_true).numpy()\n",
        "y_pred_all = torch.cat(y_pred).numpy()\n",
        "\n",
        "cm = confusion_matrix(y_true_all, y_pred_all)\n",
        "\n",
        "plt.figure(figsize=(8,6))\n",
        "sns.heatmap(cm, annot=False, fmt='d', cmap='Blues')\n",
        "plt.xlabel(\"Predicted label\")\n",
        "plt.ylabel(\"True label\")\n",
        "plt.title(\"Confusion Matrix\")\n",
        "plt.show()"
      ]
    }
  ]
}
